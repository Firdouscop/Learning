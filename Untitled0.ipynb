{
  "nbformat": 4,
  "nbformat_minor": 0,
  "metadata": {
    "colab": {
      "provenance": [],
      "gpuType": "T4",
      "authorship_tag": "ABX9TyMcBr55KUjK5KIBZVcLQ+JX",
      "include_colab_link": true
    },
    "kernelspec": {
      "name": "python3",
      "display_name": "Python 3"
    },
    "language_info": {
      "name": "python"
    },
    "accelerator": "GPU",
    "widgets": {
      "application/vnd.jupyter.widget-state+json": {
        "580f1cbcddeb4d1a80dba686d8f5ac29": {
          "model_module": "@jupyter-widgets/controls",
          "model_name": "VBoxModel",
          "model_module_version": "1.5.0",
          "state": {
            "_dom_classes": [],
            "_model_module": "@jupyter-widgets/controls",
            "_model_module_version": "1.5.0",
            "_model_name": "VBoxModel",
            "_view_count": null,
            "_view_module": "@jupyter-widgets/controls",
            "_view_module_version": "1.5.0",
            "_view_name": "VBoxView",
            "box_style": "",
            "children": [
              "IPY_MODEL_ae391d70d17745b6a526acf18e42fe77",
              "IPY_MODEL_95815e3592d148d8bc7761ec5e039fe6",
              "IPY_MODEL_56db09f479344e4eb30c7ee297cdecfa",
              "IPY_MODEL_06d2500923414903bed62a79407f7532",
              "IPY_MODEL_6a9cd7ca94784da19607ad4f09fb4438"
            ],
            "layout": "IPY_MODEL_0cc8810c41f94324a010437cb4412288"
          }
        },
        "ae391d70d17745b6a526acf18e42fe77": {
          "model_module": "@jupyter-widgets/controls",
          "model_name": "HTMLModel",
          "model_module_version": "1.5.0",
          "state": {
            "_dom_classes": [],
            "_model_module": "@jupyter-widgets/controls",
            "_model_module_version": "1.5.0",
            "_model_name": "HTMLModel",
            "_view_count": null,
            "_view_module": "@jupyter-widgets/controls",
            "_view_module_version": "1.5.0",
            "_view_name": "HTMLView",
            "description": "",
            "description_tooltip": null,
            "layout": "IPY_MODEL_51cc9b281a3440208aa3766a680c30dd",
            "placeholder": "​",
            "style": "IPY_MODEL_272d2f62bb6a4e8092b129495c13228c",
            "value": "<center> <img\nsrc=https://huggingface.co/front/assets/huggingface_logo-noborder.svg\nalt='Hugging Face'> <br> Copy a token from <a\nhref=\"https://huggingface.co/settings/tokens\" target=\"_blank\">your Hugging Face\ntokens page</a> and paste it below. <br> Immediately click login after copying\nyour token or it might be stored in plain text in this notebook file. </center>"
          }
        },
        "95815e3592d148d8bc7761ec5e039fe6": {
          "model_module": "@jupyter-widgets/controls",
          "model_name": "PasswordModel",
          "model_module_version": "1.5.0",
          "state": {
            "_dom_classes": [],
            "_model_module": "@jupyter-widgets/controls",
            "_model_module_version": "1.5.0",
            "_model_name": "PasswordModel",
            "_view_count": null,
            "_view_module": "@jupyter-widgets/controls",
            "_view_module_version": "1.5.0",
            "_view_name": "PasswordView",
            "continuous_update": true,
            "description": "Token:",
            "description_tooltip": null,
            "disabled": false,
            "layout": "IPY_MODEL_8a64985779ca4380b0a5fe9f988f66f2",
            "placeholder": "​",
            "style": "IPY_MODEL_768e5588d4ad4531a90be0415fdc1432",
            "value": ""
          }
        },
        "56db09f479344e4eb30c7ee297cdecfa": {
          "model_module": "@jupyter-widgets/controls",
          "model_name": "CheckboxModel",
          "model_module_version": "1.5.0",
          "state": {
            "_dom_classes": [],
            "_model_module": "@jupyter-widgets/controls",
            "_model_module_version": "1.5.0",
            "_model_name": "CheckboxModel",
            "_view_count": null,
            "_view_module": "@jupyter-widgets/controls",
            "_view_module_version": "1.5.0",
            "_view_name": "CheckboxView",
            "description": "Add token as git credential?",
            "description_tooltip": null,
            "disabled": false,
            "indent": true,
            "layout": "IPY_MODEL_efa351e50f76471e97c55f4edb4c5466",
            "style": "IPY_MODEL_40a467e55c6b43168b4bdfb7cb9c7da3",
            "value": true
          }
        },
        "06d2500923414903bed62a79407f7532": {
          "model_module": "@jupyter-widgets/controls",
          "model_name": "ButtonModel",
          "model_module_version": "1.5.0",
          "state": {
            "_dom_classes": [],
            "_model_module": "@jupyter-widgets/controls",
            "_model_module_version": "1.5.0",
            "_model_name": "ButtonModel",
            "_view_count": null,
            "_view_module": "@jupyter-widgets/controls",
            "_view_module_version": "1.5.0",
            "_view_name": "ButtonView",
            "button_style": "",
            "description": "Login",
            "disabled": false,
            "icon": "",
            "layout": "IPY_MODEL_b0bcb6151cfe4b0db1e7661c26c7ddc6",
            "style": "IPY_MODEL_b9d15a8c9cef460c91653d69dc813d9a",
            "tooltip": ""
          }
        },
        "6a9cd7ca94784da19607ad4f09fb4438": {
          "model_module": "@jupyter-widgets/controls",
          "model_name": "HTMLModel",
          "model_module_version": "1.5.0",
          "state": {
            "_dom_classes": [],
            "_model_module": "@jupyter-widgets/controls",
            "_model_module_version": "1.5.0",
            "_model_name": "HTMLModel",
            "_view_count": null,
            "_view_module": "@jupyter-widgets/controls",
            "_view_module_version": "1.5.0",
            "_view_name": "HTMLView",
            "description": "",
            "description_tooltip": null,
            "layout": "IPY_MODEL_b9f32d630f6340f9bcc15e6963ef928a",
            "placeholder": "​",
            "style": "IPY_MODEL_12688fa39aec4bcd8eb2849b76ba900c",
            "value": "\n<b>Pro Tip:</b> If you don't already have one, you can create a dedicated\n'notebooks' token with 'write' access, that you can then easily reuse for all\nnotebooks. </center>"
          }
        },
        "0cc8810c41f94324a010437cb4412288": {
          "model_module": "@jupyter-widgets/base",
          "model_name": "LayoutModel",
          "model_module_version": "1.2.0",
          "state": {
            "_model_module": "@jupyter-widgets/base",
            "_model_module_version": "1.2.0",
            "_model_name": "LayoutModel",
            "_view_count": null,
            "_view_module": "@jupyter-widgets/base",
            "_view_module_version": "1.2.0",
            "_view_name": "LayoutView",
            "align_content": null,
            "align_items": "center",
            "align_self": null,
            "border": null,
            "bottom": null,
            "display": "flex",
            "flex": null,
            "flex_flow": "column",
            "grid_area": null,
            "grid_auto_columns": null,
            "grid_auto_flow": null,
            "grid_auto_rows": null,
            "grid_column": null,
            "grid_gap": null,
            "grid_row": null,
            "grid_template_areas": null,
            "grid_template_columns": null,
            "grid_template_rows": null,
            "height": null,
            "justify_content": null,
            "justify_items": null,
            "left": null,
            "margin": null,
            "max_height": null,
            "max_width": null,
            "min_height": null,
            "min_width": null,
            "object_fit": null,
            "object_position": null,
            "order": null,
            "overflow": null,
            "overflow_x": null,
            "overflow_y": null,
            "padding": null,
            "right": null,
            "top": null,
            "visibility": null,
            "width": "50%"
          }
        },
        "51cc9b281a3440208aa3766a680c30dd": {
          "model_module": "@jupyter-widgets/base",
          "model_name": "LayoutModel",
          "model_module_version": "1.2.0",
          "state": {
            "_model_module": "@jupyter-widgets/base",
            "_model_module_version": "1.2.0",
            "_model_name": "LayoutModel",
            "_view_count": null,
            "_view_module": "@jupyter-widgets/base",
            "_view_module_version": "1.2.0",
            "_view_name": "LayoutView",
            "align_content": null,
            "align_items": null,
            "align_self": null,
            "border": null,
            "bottom": null,
            "display": null,
            "flex": null,
            "flex_flow": null,
            "grid_area": null,
            "grid_auto_columns": null,
            "grid_auto_flow": null,
            "grid_auto_rows": null,
            "grid_column": null,
            "grid_gap": null,
            "grid_row": null,
            "grid_template_areas": null,
            "grid_template_columns": null,
            "grid_template_rows": null,
            "height": null,
            "justify_content": null,
            "justify_items": null,
            "left": null,
            "margin": null,
            "max_height": null,
            "max_width": null,
            "min_height": null,
            "min_width": null,
            "object_fit": null,
            "object_position": null,
            "order": null,
            "overflow": null,
            "overflow_x": null,
            "overflow_y": null,
            "padding": null,
            "right": null,
            "top": null,
            "visibility": null,
            "width": null
          }
        },
        "272d2f62bb6a4e8092b129495c13228c": {
          "model_module": "@jupyter-widgets/controls",
          "model_name": "DescriptionStyleModel",
          "model_module_version": "1.5.0",
          "state": {
            "_model_module": "@jupyter-widgets/controls",
            "_model_module_version": "1.5.0",
            "_model_name": "DescriptionStyleModel",
            "_view_count": null,
            "_view_module": "@jupyter-widgets/base",
            "_view_module_version": "1.2.0",
            "_view_name": "StyleView",
            "description_width": ""
          }
        },
        "8a64985779ca4380b0a5fe9f988f66f2": {
          "model_module": "@jupyter-widgets/base",
          "model_name": "LayoutModel",
          "model_module_version": "1.2.0",
          "state": {
            "_model_module": "@jupyter-widgets/base",
            "_model_module_version": "1.2.0",
            "_model_name": "LayoutModel",
            "_view_count": null,
            "_view_module": "@jupyter-widgets/base",
            "_view_module_version": "1.2.0",
            "_view_name": "LayoutView",
            "align_content": null,
            "align_items": null,
            "align_self": null,
            "border": null,
            "bottom": null,
            "display": null,
            "flex": null,
            "flex_flow": null,
            "grid_area": null,
            "grid_auto_columns": null,
            "grid_auto_flow": null,
            "grid_auto_rows": null,
            "grid_column": null,
            "grid_gap": null,
            "grid_row": null,
            "grid_template_areas": null,
            "grid_template_columns": null,
            "grid_template_rows": null,
            "height": null,
            "justify_content": null,
            "justify_items": null,
            "left": null,
            "margin": null,
            "max_height": null,
            "max_width": null,
            "min_height": null,
            "min_width": null,
            "object_fit": null,
            "object_position": null,
            "order": null,
            "overflow": null,
            "overflow_x": null,
            "overflow_y": null,
            "padding": null,
            "right": null,
            "top": null,
            "visibility": null,
            "width": null
          }
        },
        "768e5588d4ad4531a90be0415fdc1432": {
          "model_module": "@jupyter-widgets/controls",
          "model_name": "DescriptionStyleModel",
          "model_module_version": "1.5.0",
          "state": {
            "_model_module": "@jupyter-widgets/controls",
            "_model_module_version": "1.5.0",
            "_model_name": "DescriptionStyleModel",
            "_view_count": null,
            "_view_module": "@jupyter-widgets/base",
            "_view_module_version": "1.2.0",
            "_view_name": "StyleView",
            "description_width": ""
          }
        },
        "efa351e50f76471e97c55f4edb4c5466": {
          "model_module": "@jupyter-widgets/base",
          "model_name": "LayoutModel",
          "model_module_version": "1.2.0",
          "state": {
            "_model_module": "@jupyter-widgets/base",
            "_model_module_version": "1.2.0",
            "_model_name": "LayoutModel",
            "_view_count": null,
            "_view_module": "@jupyter-widgets/base",
            "_view_module_version": "1.2.0",
            "_view_name": "LayoutView",
            "align_content": null,
            "align_items": null,
            "align_self": null,
            "border": null,
            "bottom": null,
            "display": null,
            "flex": null,
            "flex_flow": null,
            "grid_area": null,
            "grid_auto_columns": null,
            "grid_auto_flow": null,
            "grid_auto_rows": null,
            "grid_column": null,
            "grid_gap": null,
            "grid_row": null,
            "grid_template_areas": null,
            "grid_template_columns": null,
            "grid_template_rows": null,
            "height": null,
            "justify_content": null,
            "justify_items": null,
            "left": null,
            "margin": null,
            "max_height": null,
            "max_width": null,
            "min_height": null,
            "min_width": null,
            "object_fit": null,
            "object_position": null,
            "order": null,
            "overflow": null,
            "overflow_x": null,
            "overflow_y": null,
            "padding": null,
            "right": null,
            "top": null,
            "visibility": null,
            "width": null
          }
        },
        "40a467e55c6b43168b4bdfb7cb9c7da3": {
          "model_module": "@jupyter-widgets/controls",
          "model_name": "DescriptionStyleModel",
          "model_module_version": "1.5.0",
          "state": {
            "_model_module": "@jupyter-widgets/controls",
            "_model_module_version": "1.5.0",
            "_model_name": "DescriptionStyleModel",
            "_view_count": null,
            "_view_module": "@jupyter-widgets/base",
            "_view_module_version": "1.2.0",
            "_view_name": "StyleView",
            "description_width": ""
          }
        },
        "b0bcb6151cfe4b0db1e7661c26c7ddc6": {
          "model_module": "@jupyter-widgets/base",
          "model_name": "LayoutModel",
          "model_module_version": "1.2.0",
          "state": {
            "_model_module": "@jupyter-widgets/base",
            "_model_module_version": "1.2.0",
            "_model_name": "LayoutModel",
            "_view_count": null,
            "_view_module": "@jupyter-widgets/base",
            "_view_module_version": "1.2.0",
            "_view_name": "LayoutView",
            "align_content": null,
            "align_items": null,
            "align_self": null,
            "border": null,
            "bottom": null,
            "display": null,
            "flex": null,
            "flex_flow": null,
            "grid_area": null,
            "grid_auto_columns": null,
            "grid_auto_flow": null,
            "grid_auto_rows": null,
            "grid_column": null,
            "grid_gap": null,
            "grid_row": null,
            "grid_template_areas": null,
            "grid_template_columns": null,
            "grid_template_rows": null,
            "height": null,
            "justify_content": null,
            "justify_items": null,
            "left": null,
            "margin": null,
            "max_height": null,
            "max_width": null,
            "min_height": null,
            "min_width": null,
            "object_fit": null,
            "object_position": null,
            "order": null,
            "overflow": null,
            "overflow_x": null,
            "overflow_y": null,
            "padding": null,
            "right": null,
            "top": null,
            "visibility": null,
            "width": null
          }
        },
        "b9d15a8c9cef460c91653d69dc813d9a": {
          "model_module": "@jupyter-widgets/controls",
          "model_name": "ButtonStyleModel",
          "model_module_version": "1.5.0",
          "state": {
            "_model_module": "@jupyter-widgets/controls",
            "_model_module_version": "1.5.0",
            "_model_name": "ButtonStyleModel",
            "_view_count": null,
            "_view_module": "@jupyter-widgets/base",
            "_view_module_version": "1.2.0",
            "_view_name": "StyleView",
            "button_color": null,
            "font_weight": ""
          }
        },
        "b9f32d630f6340f9bcc15e6963ef928a": {
          "model_module": "@jupyter-widgets/base",
          "model_name": "LayoutModel",
          "model_module_version": "1.2.0",
          "state": {
            "_model_module": "@jupyter-widgets/base",
            "_model_module_version": "1.2.0",
            "_model_name": "LayoutModel",
            "_view_count": null,
            "_view_module": "@jupyter-widgets/base",
            "_view_module_version": "1.2.0",
            "_view_name": "LayoutView",
            "align_content": null,
            "align_items": null,
            "align_self": null,
            "border": null,
            "bottom": null,
            "display": null,
            "flex": null,
            "flex_flow": null,
            "grid_area": null,
            "grid_auto_columns": null,
            "grid_auto_flow": null,
            "grid_auto_rows": null,
            "grid_column": null,
            "grid_gap": null,
            "grid_row": null,
            "grid_template_areas": null,
            "grid_template_columns": null,
            "grid_template_rows": null,
            "height": null,
            "justify_content": null,
            "justify_items": null,
            "left": null,
            "margin": null,
            "max_height": null,
            "max_width": null,
            "min_height": null,
            "min_width": null,
            "object_fit": null,
            "object_position": null,
            "order": null,
            "overflow": null,
            "overflow_x": null,
            "overflow_y": null,
            "padding": null,
            "right": null,
            "top": null,
            "visibility": null,
            "width": null
          }
        },
        "12688fa39aec4bcd8eb2849b76ba900c": {
          "model_module": "@jupyter-widgets/controls",
          "model_name": "DescriptionStyleModel",
          "model_module_version": "1.5.0",
          "state": {
            "_model_module": "@jupyter-widgets/controls",
            "_model_module_version": "1.5.0",
            "_model_name": "DescriptionStyleModel",
            "_view_count": null,
            "_view_module": "@jupyter-widgets/base",
            "_view_module_version": "1.2.0",
            "_view_name": "StyleView",
            "description_width": ""
          }
        },
        "2c7a78b53a8c4e86add9ed629c5ef199": {
          "model_module": "@jupyter-widgets/controls",
          "model_name": "HBoxModel",
          "model_module_version": "1.5.0",
          "state": {
            "_dom_classes": [],
            "_model_module": "@jupyter-widgets/controls",
            "_model_module_version": "1.5.0",
            "_model_name": "HBoxModel",
            "_view_count": null,
            "_view_module": "@jupyter-widgets/controls",
            "_view_module_version": "1.5.0",
            "_view_name": "HBoxView",
            "box_style": "",
            "children": [
              "IPY_MODEL_5b0e8ad96d7d432eb3d1b445129683ad",
              "IPY_MODEL_6e240a5b9a554a64935a7ed5476f9957",
              "IPY_MODEL_ba9793497eb74192a4f73d8fadd7abb1"
            ],
            "layout": "IPY_MODEL_1ba72cdb82e545c19895acfefb5720fd"
          }
        },
        "5b0e8ad96d7d432eb3d1b445129683ad": {
          "model_module": "@jupyter-widgets/controls",
          "model_name": "HTMLModel",
          "model_module_version": "1.5.0",
          "state": {
            "_dom_classes": [],
            "_model_module": "@jupyter-widgets/controls",
            "_model_module_version": "1.5.0",
            "_model_name": "HTMLModel",
            "_view_count": null,
            "_view_module": "@jupyter-widgets/controls",
            "_view_module_version": "1.5.0",
            "_view_name": "HTMLView",
            "description": "",
            "description_tooltip": null,
            "layout": "IPY_MODEL_99c099289a0249999c91f5996b70ffc4",
            "placeholder": "​",
            "style": "IPY_MODEL_bff1186337b24b7ab840743230f25eca",
            "value": "Map: 100%"
          }
        },
        "6e240a5b9a554a64935a7ed5476f9957": {
          "model_module": "@jupyter-widgets/controls",
          "model_name": "FloatProgressModel",
          "model_module_version": "1.5.0",
          "state": {
            "_dom_classes": [],
            "_model_module": "@jupyter-widgets/controls",
            "_model_module_version": "1.5.0",
            "_model_name": "FloatProgressModel",
            "_view_count": null,
            "_view_module": "@jupyter-widgets/controls",
            "_view_module_version": "1.5.0",
            "_view_name": "ProgressView",
            "bar_style": "success",
            "description": "",
            "description_tooltip": null,
            "layout": "IPY_MODEL_2a0f06d869e1488283908a0c6cd5797f",
            "max": 222,
            "min": 0,
            "orientation": "horizontal",
            "style": "IPY_MODEL_50717cd0534a4e19bd2bae62f9e2b21a",
            "value": 222
          }
        },
        "ba9793497eb74192a4f73d8fadd7abb1": {
          "model_module": "@jupyter-widgets/controls",
          "model_name": "HTMLModel",
          "model_module_version": "1.5.0",
          "state": {
            "_dom_classes": [],
            "_model_module": "@jupyter-widgets/controls",
            "_model_module_version": "1.5.0",
            "_model_name": "HTMLModel",
            "_view_count": null,
            "_view_module": "@jupyter-widgets/controls",
            "_view_module_version": "1.5.0",
            "_view_name": "HTMLView",
            "description": "",
            "description_tooltip": null,
            "layout": "IPY_MODEL_786afcd8675c4722a2262b1ed892cc40",
            "placeholder": "​",
            "style": "IPY_MODEL_139f1efcd84141108a3ed9cd752f9644",
            "value": " 222/222 [00:00&lt;00:00, 4141.21 examples/s]"
          }
        },
        "1ba72cdb82e545c19895acfefb5720fd": {
          "model_module": "@jupyter-widgets/base",
          "model_name": "LayoutModel",
          "model_module_version": "1.2.0",
          "state": {
            "_model_module": "@jupyter-widgets/base",
            "_model_module_version": "1.2.0",
            "_model_name": "LayoutModel",
            "_view_count": null,
            "_view_module": "@jupyter-widgets/base",
            "_view_module_version": "1.2.0",
            "_view_name": "LayoutView",
            "align_content": null,
            "align_items": null,
            "align_self": null,
            "border": null,
            "bottom": null,
            "display": null,
            "flex": null,
            "flex_flow": null,
            "grid_area": null,
            "grid_auto_columns": null,
            "grid_auto_flow": null,
            "grid_auto_rows": null,
            "grid_column": null,
            "grid_gap": null,
            "grid_row": null,
            "grid_template_areas": null,
            "grid_template_columns": null,
            "grid_template_rows": null,
            "height": null,
            "justify_content": null,
            "justify_items": null,
            "left": null,
            "margin": null,
            "max_height": null,
            "max_width": null,
            "min_height": null,
            "min_width": null,
            "object_fit": null,
            "object_position": null,
            "order": null,
            "overflow": null,
            "overflow_x": null,
            "overflow_y": null,
            "padding": null,
            "right": null,
            "top": null,
            "visibility": null,
            "width": null
          }
        },
        "99c099289a0249999c91f5996b70ffc4": {
          "model_module": "@jupyter-widgets/base",
          "model_name": "LayoutModel",
          "model_module_version": "1.2.0",
          "state": {
            "_model_module": "@jupyter-widgets/base",
            "_model_module_version": "1.2.0",
            "_model_name": "LayoutModel",
            "_view_count": null,
            "_view_module": "@jupyter-widgets/base",
            "_view_module_version": "1.2.0",
            "_view_name": "LayoutView",
            "align_content": null,
            "align_items": null,
            "align_self": null,
            "border": null,
            "bottom": null,
            "display": null,
            "flex": null,
            "flex_flow": null,
            "grid_area": null,
            "grid_auto_columns": null,
            "grid_auto_flow": null,
            "grid_auto_rows": null,
            "grid_column": null,
            "grid_gap": null,
            "grid_row": null,
            "grid_template_areas": null,
            "grid_template_columns": null,
            "grid_template_rows": null,
            "height": null,
            "justify_content": null,
            "justify_items": null,
            "left": null,
            "margin": null,
            "max_height": null,
            "max_width": null,
            "min_height": null,
            "min_width": null,
            "object_fit": null,
            "object_position": null,
            "order": null,
            "overflow": null,
            "overflow_x": null,
            "overflow_y": null,
            "padding": null,
            "right": null,
            "top": null,
            "visibility": null,
            "width": null
          }
        },
        "bff1186337b24b7ab840743230f25eca": {
          "model_module": "@jupyter-widgets/controls",
          "model_name": "DescriptionStyleModel",
          "model_module_version": "1.5.0",
          "state": {
            "_model_module": "@jupyter-widgets/controls",
            "_model_module_version": "1.5.0",
            "_model_name": "DescriptionStyleModel",
            "_view_count": null,
            "_view_module": "@jupyter-widgets/base",
            "_view_module_version": "1.2.0",
            "_view_name": "StyleView",
            "description_width": ""
          }
        },
        "2a0f06d869e1488283908a0c6cd5797f": {
          "model_module": "@jupyter-widgets/base",
          "model_name": "LayoutModel",
          "model_module_version": "1.2.0",
          "state": {
            "_model_module": "@jupyter-widgets/base",
            "_model_module_version": "1.2.0",
            "_model_name": "LayoutModel",
            "_view_count": null,
            "_view_module": "@jupyter-widgets/base",
            "_view_module_version": "1.2.0",
            "_view_name": "LayoutView",
            "align_content": null,
            "align_items": null,
            "align_self": null,
            "border": null,
            "bottom": null,
            "display": null,
            "flex": null,
            "flex_flow": null,
            "grid_area": null,
            "grid_auto_columns": null,
            "grid_auto_flow": null,
            "grid_auto_rows": null,
            "grid_column": null,
            "grid_gap": null,
            "grid_row": null,
            "grid_template_areas": null,
            "grid_template_columns": null,
            "grid_template_rows": null,
            "height": null,
            "justify_content": null,
            "justify_items": null,
            "left": null,
            "margin": null,
            "max_height": null,
            "max_width": null,
            "min_height": null,
            "min_width": null,
            "object_fit": null,
            "object_position": null,
            "order": null,
            "overflow": null,
            "overflow_x": null,
            "overflow_y": null,
            "padding": null,
            "right": null,
            "top": null,
            "visibility": null,
            "width": null
          }
        },
        "50717cd0534a4e19bd2bae62f9e2b21a": {
          "model_module": "@jupyter-widgets/controls",
          "model_name": "ProgressStyleModel",
          "model_module_version": "1.5.0",
          "state": {
            "_model_module": "@jupyter-widgets/controls",
            "_model_module_version": "1.5.0",
            "_model_name": "ProgressStyleModel",
            "_view_count": null,
            "_view_module": "@jupyter-widgets/base",
            "_view_module_version": "1.2.0",
            "_view_name": "StyleView",
            "bar_color": null,
            "description_width": ""
          }
        },
        "786afcd8675c4722a2262b1ed892cc40": {
          "model_module": "@jupyter-widgets/base",
          "model_name": "LayoutModel",
          "model_module_version": "1.2.0",
          "state": {
            "_model_module": "@jupyter-widgets/base",
            "_model_module_version": "1.2.0",
            "_model_name": "LayoutModel",
            "_view_count": null,
            "_view_module": "@jupyter-widgets/base",
            "_view_module_version": "1.2.0",
            "_view_name": "LayoutView",
            "align_content": null,
            "align_items": null,
            "align_self": null,
            "border": null,
            "bottom": null,
            "display": null,
            "flex": null,
            "flex_flow": null,
            "grid_area": null,
            "grid_auto_columns": null,
            "grid_auto_flow": null,
            "grid_auto_rows": null,
            "grid_column": null,
            "grid_gap": null,
            "grid_row": null,
            "grid_template_areas": null,
            "grid_template_columns": null,
            "grid_template_rows": null,
            "height": null,
            "justify_content": null,
            "justify_items": null,
            "left": null,
            "margin": null,
            "max_height": null,
            "max_width": null,
            "min_height": null,
            "min_width": null,
            "object_fit": null,
            "object_position": null,
            "order": null,
            "overflow": null,
            "overflow_x": null,
            "overflow_y": null,
            "padding": null,
            "right": null,
            "top": null,
            "visibility": null,
            "width": null
          }
        },
        "139f1efcd84141108a3ed9cd752f9644": {
          "model_module": "@jupyter-widgets/controls",
          "model_name": "DescriptionStyleModel",
          "model_module_version": "1.5.0",
          "state": {
            "_model_module": "@jupyter-widgets/controls",
            "_model_module_version": "1.5.0",
            "_model_name": "DescriptionStyleModel",
            "_view_count": null,
            "_view_module": "@jupyter-widgets/base",
            "_view_module_version": "1.2.0",
            "_view_name": "StyleView",
            "description_width": ""
          }
        },
        "2b2c5a7495244c268a0e0f6966a8a203": {
          "model_module": "@jupyter-widgets/controls",
          "model_name": "HBoxModel",
          "model_module_version": "1.5.0",
          "state": {
            "_dom_classes": [],
            "_model_module": "@jupyter-widgets/controls",
            "_model_module_version": "1.5.0",
            "_model_name": "HBoxModel",
            "_view_count": null,
            "_view_module": "@jupyter-widgets/controls",
            "_view_module_version": "1.5.0",
            "_view_name": "HBoxView",
            "box_style": "",
            "children": [
              "IPY_MODEL_bb1ceda1a8a943b881ac00452b85bd8d",
              "IPY_MODEL_827a0580e09f48a7b2e782b534bea61c",
              "IPY_MODEL_303eac73c58a443ab848eb48f32a27cc"
            ],
            "layout": "IPY_MODEL_5db51140244a47518e8bfab86f058c9b"
          }
        },
        "bb1ceda1a8a943b881ac00452b85bd8d": {
          "model_module": "@jupyter-widgets/controls",
          "model_name": "HTMLModel",
          "model_module_version": "1.5.0",
          "state": {
            "_dom_classes": [],
            "_model_module": "@jupyter-widgets/controls",
            "_model_module_version": "1.5.0",
            "_model_name": "HTMLModel",
            "_view_count": null,
            "_view_module": "@jupyter-widgets/controls",
            "_view_module_version": "1.5.0",
            "_view_name": "HTMLView",
            "description": "",
            "description_tooltip": null,
            "layout": "IPY_MODEL_a47fc91863ca4632bfd2961bb4a5f676",
            "placeholder": "​",
            "style": "IPY_MODEL_56518fd0b2d146bcb5a9d0aabd91488e",
            "value": "Map: 100%"
          }
        },
        "827a0580e09f48a7b2e782b534bea61c": {
          "model_module": "@jupyter-widgets/controls",
          "model_name": "FloatProgressModel",
          "model_module_version": "1.5.0",
          "state": {
            "_dom_classes": [],
            "_model_module": "@jupyter-widgets/controls",
            "_model_module_version": "1.5.0",
            "_model_name": "FloatProgressModel",
            "_view_count": null,
            "_view_module": "@jupyter-widgets/controls",
            "_view_module_version": "1.5.0",
            "_view_name": "ProgressView",
            "bar_style": "success",
            "description": "",
            "description_tooltip": null,
            "layout": "IPY_MODEL_f1148fa7a8a04f0ca69526ded2557ce6",
            "max": 74,
            "min": 0,
            "orientation": "horizontal",
            "style": "IPY_MODEL_5295191f8734479483c7d8d8663353c7",
            "value": 74
          }
        },
        "303eac73c58a443ab848eb48f32a27cc": {
          "model_module": "@jupyter-widgets/controls",
          "model_name": "HTMLModel",
          "model_module_version": "1.5.0",
          "state": {
            "_dom_classes": [],
            "_model_module": "@jupyter-widgets/controls",
            "_model_module_version": "1.5.0",
            "_model_name": "HTMLModel",
            "_view_count": null,
            "_view_module": "@jupyter-widgets/controls",
            "_view_module_version": "1.5.0",
            "_view_name": "HTMLView",
            "description": "",
            "description_tooltip": null,
            "layout": "IPY_MODEL_d839fcd4a1914a96a03610145bead60c",
            "placeholder": "​",
            "style": "IPY_MODEL_7e375415fafe417ea98c75eb3ca2ccd3",
            "value": " 74/74 [00:00&lt;00:00, 1157.96 examples/s]"
          }
        },
        "5db51140244a47518e8bfab86f058c9b": {
          "model_module": "@jupyter-widgets/base",
          "model_name": "LayoutModel",
          "model_module_version": "1.2.0",
          "state": {
            "_model_module": "@jupyter-widgets/base",
            "_model_module_version": "1.2.0",
            "_model_name": "LayoutModel",
            "_view_count": null,
            "_view_module": "@jupyter-widgets/base",
            "_view_module_version": "1.2.0",
            "_view_name": "LayoutView",
            "align_content": null,
            "align_items": null,
            "align_self": null,
            "border": null,
            "bottom": null,
            "display": null,
            "flex": null,
            "flex_flow": null,
            "grid_area": null,
            "grid_auto_columns": null,
            "grid_auto_flow": null,
            "grid_auto_rows": null,
            "grid_column": null,
            "grid_gap": null,
            "grid_row": null,
            "grid_template_areas": null,
            "grid_template_columns": null,
            "grid_template_rows": null,
            "height": null,
            "justify_content": null,
            "justify_items": null,
            "left": null,
            "margin": null,
            "max_height": null,
            "max_width": null,
            "min_height": null,
            "min_width": null,
            "object_fit": null,
            "object_position": null,
            "order": null,
            "overflow": null,
            "overflow_x": null,
            "overflow_y": null,
            "padding": null,
            "right": null,
            "top": null,
            "visibility": null,
            "width": null
          }
        },
        "a47fc91863ca4632bfd2961bb4a5f676": {
          "model_module": "@jupyter-widgets/base",
          "model_name": "LayoutModel",
          "model_module_version": "1.2.0",
          "state": {
            "_model_module": "@jupyter-widgets/base",
            "_model_module_version": "1.2.0",
            "_model_name": "LayoutModel",
            "_view_count": null,
            "_view_module": "@jupyter-widgets/base",
            "_view_module_version": "1.2.0",
            "_view_name": "LayoutView",
            "align_content": null,
            "align_items": null,
            "align_self": null,
            "border": null,
            "bottom": null,
            "display": null,
            "flex": null,
            "flex_flow": null,
            "grid_area": null,
            "grid_auto_columns": null,
            "grid_auto_flow": null,
            "grid_auto_rows": null,
            "grid_column": null,
            "grid_gap": null,
            "grid_row": null,
            "grid_template_areas": null,
            "grid_template_columns": null,
            "grid_template_rows": null,
            "height": null,
            "justify_content": null,
            "justify_items": null,
            "left": null,
            "margin": null,
            "max_height": null,
            "max_width": null,
            "min_height": null,
            "min_width": null,
            "object_fit": null,
            "object_position": null,
            "order": null,
            "overflow": null,
            "overflow_x": null,
            "overflow_y": null,
            "padding": null,
            "right": null,
            "top": null,
            "visibility": null,
            "width": null
          }
        },
        "56518fd0b2d146bcb5a9d0aabd91488e": {
          "model_module": "@jupyter-widgets/controls",
          "model_name": "DescriptionStyleModel",
          "model_module_version": "1.5.0",
          "state": {
            "_model_module": "@jupyter-widgets/controls",
            "_model_module_version": "1.5.0",
            "_model_name": "DescriptionStyleModel",
            "_view_count": null,
            "_view_module": "@jupyter-widgets/base",
            "_view_module_version": "1.2.0",
            "_view_name": "StyleView",
            "description_width": ""
          }
        },
        "f1148fa7a8a04f0ca69526ded2557ce6": {
          "model_module": "@jupyter-widgets/base",
          "model_name": "LayoutModel",
          "model_module_version": "1.2.0",
          "state": {
            "_model_module": "@jupyter-widgets/base",
            "_model_module_version": "1.2.0",
            "_model_name": "LayoutModel",
            "_view_count": null,
            "_view_module": "@jupyter-widgets/base",
            "_view_module_version": "1.2.0",
            "_view_name": "LayoutView",
            "align_content": null,
            "align_items": null,
            "align_self": null,
            "border": null,
            "bottom": null,
            "display": null,
            "flex": null,
            "flex_flow": null,
            "grid_area": null,
            "grid_auto_columns": null,
            "grid_auto_flow": null,
            "grid_auto_rows": null,
            "grid_column": null,
            "grid_gap": null,
            "grid_row": null,
            "grid_template_areas": null,
            "grid_template_columns": null,
            "grid_template_rows": null,
            "height": null,
            "justify_content": null,
            "justify_items": null,
            "left": null,
            "margin": null,
            "max_height": null,
            "max_width": null,
            "min_height": null,
            "min_width": null,
            "object_fit": null,
            "object_position": null,
            "order": null,
            "overflow": null,
            "overflow_x": null,
            "overflow_y": null,
            "padding": null,
            "right": null,
            "top": null,
            "visibility": null,
            "width": null
          }
        },
        "5295191f8734479483c7d8d8663353c7": {
          "model_module": "@jupyter-widgets/controls",
          "model_name": "ProgressStyleModel",
          "model_module_version": "1.5.0",
          "state": {
            "_model_module": "@jupyter-widgets/controls",
            "_model_module_version": "1.5.0",
            "_model_name": "ProgressStyleModel",
            "_view_count": null,
            "_view_module": "@jupyter-widgets/base",
            "_view_module_version": "1.2.0",
            "_view_name": "StyleView",
            "bar_color": null,
            "description_width": ""
          }
        },
        "d839fcd4a1914a96a03610145bead60c": {
          "model_module": "@jupyter-widgets/base",
          "model_name": "LayoutModel",
          "model_module_version": "1.2.0",
          "state": {
            "_model_module": "@jupyter-widgets/base",
            "_model_module_version": "1.2.0",
            "_model_name": "LayoutModel",
            "_view_count": null,
            "_view_module": "@jupyter-widgets/base",
            "_view_module_version": "1.2.0",
            "_view_name": "LayoutView",
            "align_content": null,
            "align_items": null,
            "align_self": null,
            "border": null,
            "bottom": null,
            "display": null,
            "flex": null,
            "flex_flow": null,
            "grid_area": null,
            "grid_auto_columns": null,
            "grid_auto_flow": null,
            "grid_auto_rows": null,
            "grid_column": null,
            "grid_gap": null,
            "grid_row": null,
            "grid_template_areas": null,
            "grid_template_columns": null,
            "grid_template_rows": null,
            "height": null,
            "justify_content": null,
            "justify_items": null,
            "left": null,
            "margin": null,
            "max_height": null,
            "max_width": null,
            "min_height": null,
            "min_width": null,
            "object_fit": null,
            "object_position": null,
            "order": null,
            "overflow": null,
            "overflow_x": null,
            "overflow_y": null,
            "padding": null,
            "right": null,
            "top": null,
            "visibility": null,
            "width": null
          }
        },
        "7e375415fafe417ea98c75eb3ca2ccd3": {
          "model_module": "@jupyter-widgets/controls",
          "model_name": "DescriptionStyleModel",
          "model_module_version": "1.5.0",
          "state": {
            "_model_module": "@jupyter-widgets/controls",
            "_model_module_version": "1.5.0",
            "_model_name": "DescriptionStyleModel",
            "_view_count": null,
            "_view_module": "@jupyter-widgets/base",
            "_view_module_version": "1.2.0",
            "_view_name": "StyleView",
            "description_width": ""
          }
        },
        "53ba0af5b90346e49bff7ddc8a68ff51": {
          "model_module": "@jupyter-widgets/controls",
          "model_name": "HBoxModel",
          "model_module_version": "1.5.0",
          "state": {
            "_dom_classes": [],
            "_model_module": "@jupyter-widgets/controls",
            "_model_module_version": "1.5.0",
            "_model_name": "HBoxModel",
            "_view_count": null,
            "_view_module": "@jupyter-widgets/controls",
            "_view_module_version": "1.5.0",
            "_view_name": "HBoxView",
            "box_style": "",
            "children": [
              "IPY_MODEL_792329de3944475e91e47a9ab62bfd9d",
              "IPY_MODEL_e147798cb0454ce6b664b1e97f36203b",
              "IPY_MODEL_ee0852ceb2fb44128fb5e1631e9bc178"
            ],
            "layout": "IPY_MODEL_a951a1f16fc0430cba36b308639d2da6"
          }
        },
        "792329de3944475e91e47a9ab62bfd9d": {
          "model_module": "@jupyter-widgets/controls",
          "model_name": "HTMLModel",
          "model_module_version": "1.5.0",
          "state": {
            "_dom_classes": [],
            "_model_module": "@jupyter-widgets/controls",
            "_model_module_version": "1.5.0",
            "_model_name": "HTMLModel",
            "_view_count": null,
            "_view_module": "@jupyter-widgets/controls",
            "_view_module_version": "1.5.0",
            "_view_name": "HTMLView",
            "description": "",
            "description_tooltip": null,
            "layout": "IPY_MODEL_14279bf61800464f94deb3a3265fc1c4",
            "placeholder": "​",
            "style": "IPY_MODEL_d8205de9e91c41efb60a7efbc5f59fe8",
            "value": "README.md: 100%"
          }
        },
        "e147798cb0454ce6b664b1e97f36203b": {
          "model_module": "@jupyter-widgets/controls",
          "model_name": "FloatProgressModel",
          "model_module_version": "1.5.0",
          "state": {
            "_dom_classes": [],
            "_model_module": "@jupyter-widgets/controls",
            "_model_module_version": "1.5.0",
            "_model_name": "FloatProgressModel",
            "_view_count": null,
            "_view_module": "@jupyter-widgets/controls",
            "_view_module_version": "1.5.0",
            "_view_name": "ProgressView",
            "bar_style": "success",
            "description": "",
            "description_tooltip": null,
            "layout": "IPY_MODEL_b954d22f86864ce383b9f33c0eeb7f22",
            "max": 1292,
            "min": 0,
            "orientation": "horizontal",
            "style": "IPY_MODEL_61395a54cb7d4fc79449552547dffc43",
            "value": 1292
          }
        },
        "ee0852ceb2fb44128fb5e1631e9bc178": {
          "model_module": "@jupyter-widgets/controls",
          "model_name": "HTMLModel",
          "model_module_version": "1.5.0",
          "state": {
            "_dom_classes": [],
            "_model_module": "@jupyter-widgets/controls",
            "_model_module_version": "1.5.0",
            "_model_name": "HTMLModel",
            "_view_count": null,
            "_view_module": "@jupyter-widgets/controls",
            "_view_module_version": "1.5.0",
            "_view_name": "HTMLView",
            "description": "",
            "description_tooltip": null,
            "layout": "IPY_MODEL_5cc44ca394f945518211ed9c0e85f09b",
            "placeholder": "​",
            "style": "IPY_MODEL_d336930774024f599cd6b79dd0748853",
            "value": " 1.29k/1.29k [00:00&lt;00:00, 30.5kB/s]"
          }
        },
        "a951a1f16fc0430cba36b308639d2da6": {
          "model_module": "@jupyter-widgets/base",
          "model_name": "LayoutModel",
          "model_module_version": "1.2.0",
          "state": {
            "_model_module": "@jupyter-widgets/base",
            "_model_module_version": "1.2.0",
            "_model_name": "LayoutModel",
            "_view_count": null,
            "_view_module": "@jupyter-widgets/base",
            "_view_module_version": "1.2.0",
            "_view_name": "LayoutView",
            "align_content": null,
            "align_items": null,
            "align_self": null,
            "border": null,
            "bottom": null,
            "display": null,
            "flex": null,
            "flex_flow": null,
            "grid_area": null,
            "grid_auto_columns": null,
            "grid_auto_flow": null,
            "grid_auto_rows": null,
            "grid_column": null,
            "grid_gap": null,
            "grid_row": null,
            "grid_template_areas": null,
            "grid_template_columns": null,
            "grid_template_rows": null,
            "height": null,
            "justify_content": null,
            "justify_items": null,
            "left": null,
            "margin": null,
            "max_height": null,
            "max_width": null,
            "min_height": null,
            "min_width": null,
            "object_fit": null,
            "object_position": null,
            "order": null,
            "overflow": null,
            "overflow_x": null,
            "overflow_y": null,
            "padding": null,
            "right": null,
            "top": null,
            "visibility": null,
            "width": null
          }
        },
        "14279bf61800464f94deb3a3265fc1c4": {
          "model_module": "@jupyter-widgets/base",
          "model_name": "LayoutModel",
          "model_module_version": "1.2.0",
          "state": {
            "_model_module": "@jupyter-widgets/base",
            "_model_module_version": "1.2.0",
            "_model_name": "LayoutModel",
            "_view_count": null,
            "_view_module": "@jupyter-widgets/base",
            "_view_module_version": "1.2.0",
            "_view_name": "LayoutView",
            "align_content": null,
            "align_items": null,
            "align_self": null,
            "border": null,
            "bottom": null,
            "display": null,
            "flex": null,
            "flex_flow": null,
            "grid_area": null,
            "grid_auto_columns": null,
            "grid_auto_flow": null,
            "grid_auto_rows": null,
            "grid_column": null,
            "grid_gap": null,
            "grid_row": null,
            "grid_template_areas": null,
            "grid_template_columns": null,
            "grid_template_rows": null,
            "height": null,
            "justify_content": null,
            "justify_items": null,
            "left": null,
            "margin": null,
            "max_height": null,
            "max_width": null,
            "min_height": null,
            "min_width": null,
            "object_fit": null,
            "object_position": null,
            "order": null,
            "overflow": null,
            "overflow_x": null,
            "overflow_y": null,
            "padding": null,
            "right": null,
            "top": null,
            "visibility": null,
            "width": null
          }
        },
        "d8205de9e91c41efb60a7efbc5f59fe8": {
          "model_module": "@jupyter-widgets/controls",
          "model_name": "DescriptionStyleModel",
          "model_module_version": "1.5.0",
          "state": {
            "_model_module": "@jupyter-widgets/controls",
            "_model_module_version": "1.5.0",
            "_model_name": "DescriptionStyleModel",
            "_view_count": null,
            "_view_module": "@jupyter-widgets/base",
            "_view_module_version": "1.2.0",
            "_view_name": "StyleView",
            "description_width": ""
          }
        },
        "b954d22f86864ce383b9f33c0eeb7f22": {
          "model_module": "@jupyter-widgets/base",
          "model_name": "LayoutModel",
          "model_module_version": "1.2.0",
          "state": {
            "_model_module": "@jupyter-widgets/base",
            "_model_module_version": "1.2.0",
            "_model_name": "LayoutModel",
            "_view_count": null,
            "_view_module": "@jupyter-widgets/base",
            "_view_module_version": "1.2.0",
            "_view_name": "LayoutView",
            "align_content": null,
            "align_items": null,
            "align_self": null,
            "border": null,
            "bottom": null,
            "display": null,
            "flex": null,
            "flex_flow": null,
            "grid_area": null,
            "grid_auto_columns": null,
            "grid_auto_flow": null,
            "grid_auto_rows": null,
            "grid_column": null,
            "grid_gap": null,
            "grid_row": null,
            "grid_template_areas": null,
            "grid_template_columns": null,
            "grid_template_rows": null,
            "height": null,
            "justify_content": null,
            "justify_items": null,
            "left": null,
            "margin": null,
            "max_height": null,
            "max_width": null,
            "min_height": null,
            "min_width": null,
            "object_fit": null,
            "object_position": null,
            "order": null,
            "overflow": null,
            "overflow_x": null,
            "overflow_y": null,
            "padding": null,
            "right": null,
            "top": null,
            "visibility": null,
            "width": null
          }
        },
        "61395a54cb7d4fc79449552547dffc43": {
          "model_module": "@jupyter-widgets/controls",
          "model_name": "ProgressStyleModel",
          "model_module_version": "1.5.0",
          "state": {
            "_model_module": "@jupyter-widgets/controls",
            "_model_module_version": "1.5.0",
            "_model_name": "ProgressStyleModel",
            "_view_count": null,
            "_view_module": "@jupyter-widgets/base",
            "_view_module_version": "1.2.0",
            "_view_name": "StyleView",
            "bar_color": null,
            "description_width": ""
          }
        },
        "5cc44ca394f945518211ed9c0e85f09b": {
          "model_module": "@jupyter-widgets/base",
          "model_name": "LayoutModel",
          "model_module_version": "1.2.0",
          "state": {
            "_model_module": "@jupyter-widgets/base",
            "_model_module_version": "1.2.0",
            "_model_name": "LayoutModel",
            "_view_count": null,
            "_view_module": "@jupyter-widgets/base",
            "_view_module_version": "1.2.0",
            "_view_name": "LayoutView",
            "align_content": null,
            "align_items": null,
            "align_self": null,
            "border": null,
            "bottom": null,
            "display": null,
            "flex": null,
            "flex_flow": null,
            "grid_area": null,
            "grid_auto_columns": null,
            "grid_auto_flow": null,
            "grid_auto_rows": null,
            "grid_column": null,
            "grid_gap": null,
            "grid_row": null,
            "grid_template_areas": null,
            "grid_template_columns": null,
            "grid_template_rows": null,
            "height": null,
            "justify_content": null,
            "justify_items": null,
            "left": null,
            "margin": null,
            "max_height": null,
            "max_width": null,
            "min_height": null,
            "min_width": null,
            "object_fit": null,
            "object_position": null,
            "order": null,
            "overflow": null,
            "overflow_x": null,
            "overflow_y": null,
            "padding": null,
            "right": null,
            "top": null,
            "visibility": null,
            "width": null
          }
        },
        "d336930774024f599cd6b79dd0748853": {
          "model_module": "@jupyter-widgets/controls",
          "model_name": "DescriptionStyleModel",
          "model_module_version": "1.5.0",
          "state": {
            "_model_module": "@jupyter-widgets/controls",
            "_model_module_version": "1.5.0",
            "_model_name": "DescriptionStyleModel",
            "_view_count": null,
            "_view_module": "@jupyter-widgets/base",
            "_view_module_version": "1.2.0",
            "_view_name": "StyleView",
            "description_width": ""
          }
        },
        "060ab4da1b0e497c82b97dc8d8c9c355": {
          "model_module": "@jupyter-widgets/controls",
          "model_name": "HBoxModel",
          "model_module_version": "1.5.0",
          "state": {
            "_dom_classes": [],
            "_model_module": "@jupyter-widgets/controls",
            "_model_module_version": "1.5.0",
            "_model_name": "HBoxModel",
            "_view_count": null,
            "_view_module": "@jupyter-widgets/controls",
            "_view_module_version": "1.5.0",
            "_view_name": "HBoxView",
            "box_style": "",
            "children": [
              "IPY_MODEL_051d8065c3df4e4aaea453fd41a48e21",
              "IPY_MODEL_3642175c13fa4f38a22313870c8ad7cd",
              "IPY_MODEL_79e835f591214d978d40d60a3bb7008f"
            ],
            "layout": "IPY_MODEL_f5ed3321c7af49e09c8d3dd48e74ce3d"
          }
        },
        "051d8065c3df4e4aaea453fd41a48e21": {
          "model_module": "@jupyter-widgets/controls",
          "model_name": "HTMLModel",
          "model_module_version": "1.5.0",
          "state": {
            "_dom_classes": [],
            "_model_module": "@jupyter-widgets/controls",
            "_model_module_version": "1.5.0",
            "_model_name": "HTMLModel",
            "_view_count": null,
            "_view_module": "@jupyter-widgets/controls",
            "_view_module_version": "1.5.0",
            "_view_name": "HTMLView",
            "description": "",
            "description_tooltip": null,
            "layout": "IPY_MODEL_2ae7d96aeec24036af9fd9afe6a1828c",
            "placeholder": "​",
            "style": "IPY_MODEL_8761e1aa4a5f418096441e32b8ff47d5",
            "value": "Map (num_proc=4): 100%"
          }
        },
        "3642175c13fa4f38a22313870c8ad7cd": {
          "model_module": "@jupyter-widgets/controls",
          "model_name": "FloatProgressModel",
          "model_module_version": "1.5.0",
          "state": {
            "_dom_classes": [],
            "_model_module": "@jupyter-widgets/controls",
            "_model_module_version": "1.5.0",
            "_model_name": "FloatProgressModel",
            "_view_count": null,
            "_view_module": "@jupyter-widgets/controls",
            "_view_module_version": "1.5.0",
            "_view_name": "ProgressView",
            "bar_style": "success",
            "description": "",
            "description_tooltip": null,
            "layout": "IPY_MODEL_5aa362a546f14f8793536f5aa050b0b2",
            "max": 222,
            "min": 0,
            "orientation": "horizontal",
            "style": "IPY_MODEL_b037ec2438d84a3880160259285e941b",
            "value": 222
          }
        },
        "79e835f591214d978d40d60a3bb7008f": {
          "model_module": "@jupyter-widgets/controls",
          "model_name": "HTMLModel",
          "model_module_version": "1.5.0",
          "state": {
            "_dom_classes": [],
            "_model_module": "@jupyter-widgets/controls",
            "_model_module_version": "1.5.0",
            "_model_name": "HTMLModel",
            "_view_count": null,
            "_view_module": "@jupyter-widgets/controls",
            "_view_module_version": "1.5.0",
            "_view_name": "HTMLView",
            "description": "",
            "description_tooltip": null,
            "layout": "IPY_MODEL_4d2b33aeb7524fa69582f9f706ee5dfa",
            "placeholder": "​",
            "style": "IPY_MODEL_89e0d436cc6f4c77a9fe110edd2de5ad",
            "value": " 222/222 [00:24&lt;00:00, 19.61 examples/s]"
          }
        },
        "f5ed3321c7af49e09c8d3dd48e74ce3d": {
          "model_module": "@jupyter-widgets/base",
          "model_name": "LayoutModel",
          "model_module_version": "1.2.0",
          "state": {
            "_model_module": "@jupyter-widgets/base",
            "_model_module_version": "1.2.0",
            "_model_name": "LayoutModel",
            "_view_count": null,
            "_view_module": "@jupyter-widgets/base",
            "_view_module_version": "1.2.0",
            "_view_name": "LayoutView",
            "align_content": null,
            "align_items": null,
            "align_self": null,
            "border": null,
            "bottom": null,
            "display": null,
            "flex": null,
            "flex_flow": null,
            "grid_area": null,
            "grid_auto_columns": null,
            "grid_auto_flow": null,
            "grid_auto_rows": null,
            "grid_column": null,
            "grid_gap": null,
            "grid_row": null,
            "grid_template_areas": null,
            "grid_template_columns": null,
            "grid_template_rows": null,
            "height": null,
            "justify_content": null,
            "justify_items": null,
            "left": null,
            "margin": null,
            "max_height": null,
            "max_width": null,
            "min_height": null,
            "min_width": null,
            "object_fit": null,
            "object_position": null,
            "order": null,
            "overflow": null,
            "overflow_x": null,
            "overflow_y": null,
            "padding": null,
            "right": null,
            "top": null,
            "visibility": null,
            "width": null
          }
        },
        "2ae7d96aeec24036af9fd9afe6a1828c": {
          "model_module": "@jupyter-widgets/base",
          "model_name": "LayoutModel",
          "model_module_version": "1.2.0",
          "state": {
            "_model_module": "@jupyter-widgets/base",
            "_model_module_version": "1.2.0",
            "_model_name": "LayoutModel",
            "_view_count": null,
            "_view_module": "@jupyter-widgets/base",
            "_view_module_version": "1.2.0",
            "_view_name": "LayoutView",
            "align_content": null,
            "align_items": null,
            "align_self": null,
            "border": null,
            "bottom": null,
            "display": null,
            "flex": null,
            "flex_flow": null,
            "grid_area": null,
            "grid_auto_columns": null,
            "grid_auto_flow": null,
            "grid_auto_rows": null,
            "grid_column": null,
            "grid_gap": null,
            "grid_row": null,
            "grid_template_areas": null,
            "grid_template_columns": null,
            "grid_template_rows": null,
            "height": null,
            "justify_content": null,
            "justify_items": null,
            "left": null,
            "margin": null,
            "max_height": null,
            "max_width": null,
            "min_height": null,
            "min_width": null,
            "object_fit": null,
            "object_position": null,
            "order": null,
            "overflow": null,
            "overflow_x": null,
            "overflow_y": null,
            "padding": null,
            "right": null,
            "top": null,
            "visibility": null,
            "width": null
          }
        },
        "8761e1aa4a5f418096441e32b8ff47d5": {
          "model_module": "@jupyter-widgets/controls",
          "model_name": "DescriptionStyleModel",
          "model_module_version": "1.5.0",
          "state": {
            "_model_module": "@jupyter-widgets/controls",
            "_model_module_version": "1.5.0",
            "_model_name": "DescriptionStyleModel",
            "_view_count": null,
            "_view_module": "@jupyter-widgets/base",
            "_view_module_version": "1.2.0",
            "_view_name": "StyleView",
            "description_width": ""
          }
        },
        "5aa362a546f14f8793536f5aa050b0b2": {
          "model_module": "@jupyter-widgets/base",
          "model_name": "LayoutModel",
          "model_module_version": "1.2.0",
          "state": {
            "_model_module": "@jupyter-widgets/base",
            "_model_module_version": "1.2.0",
            "_model_name": "LayoutModel",
            "_view_count": null,
            "_view_module": "@jupyter-widgets/base",
            "_view_module_version": "1.2.0",
            "_view_name": "LayoutView",
            "align_content": null,
            "align_items": null,
            "align_self": null,
            "border": null,
            "bottom": null,
            "display": null,
            "flex": null,
            "flex_flow": null,
            "grid_area": null,
            "grid_auto_columns": null,
            "grid_auto_flow": null,
            "grid_auto_rows": null,
            "grid_column": null,
            "grid_gap": null,
            "grid_row": null,
            "grid_template_areas": null,
            "grid_template_columns": null,
            "grid_template_rows": null,
            "height": null,
            "justify_content": null,
            "justify_items": null,
            "left": null,
            "margin": null,
            "max_height": null,
            "max_width": null,
            "min_height": null,
            "min_width": null,
            "object_fit": null,
            "object_position": null,
            "order": null,
            "overflow": null,
            "overflow_x": null,
            "overflow_y": null,
            "padding": null,
            "right": null,
            "top": null,
            "visibility": null,
            "width": null
          }
        },
        "b037ec2438d84a3880160259285e941b": {
          "model_module": "@jupyter-widgets/controls",
          "model_name": "ProgressStyleModel",
          "model_module_version": "1.5.0",
          "state": {
            "_model_module": "@jupyter-widgets/controls",
            "_model_module_version": "1.5.0",
            "_model_name": "ProgressStyleModel",
            "_view_count": null,
            "_view_module": "@jupyter-widgets/base",
            "_view_module_version": "1.2.0",
            "_view_name": "StyleView",
            "bar_color": null,
            "description_width": ""
          }
        },
        "4d2b33aeb7524fa69582f9f706ee5dfa": {
          "model_module": "@jupyter-widgets/base",
          "model_name": "LayoutModel",
          "model_module_version": "1.2.0",
          "state": {
            "_model_module": "@jupyter-widgets/base",
            "_model_module_version": "1.2.0",
            "_model_name": "LayoutModel",
            "_view_count": null,
            "_view_module": "@jupyter-widgets/base",
            "_view_module_version": "1.2.0",
            "_view_name": "LayoutView",
            "align_content": null,
            "align_items": null,
            "align_self": null,
            "border": null,
            "bottom": null,
            "display": null,
            "flex": null,
            "flex_flow": null,
            "grid_area": null,
            "grid_auto_columns": null,
            "grid_auto_flow": null,
            "grid_auto_rows": null,
            "grid_column": null,
            "grid_gap": null,
            "grid_row": null,
            "grid_template_areas": null,
            "grid_template_columns": null,
            "grid_template_rows": null,
            "height": null,
            "justify_content": null,
            "justify_items": null,
            "left": null,
            "margin": null,
            "max_height": null,
            "max_width": null,
            "min_height": null,
            "min_width": null,
            "object_fit": null,
            "object_position": null,
            "order": null,
            "overflow": null,
            "overflow_x": null,
            "overflow_y": null,
            "padding": null,
            "right": null,
            "top": null,
            "visibility": null,
            "width": null
          }
        },
        "89e0d436cc6f4c77a9fe110edd2de5ad": {
          "model_module": "@jupyter-widgets/controls",
          "model_name": "DescriptionStyleModel",
          "model_module_version": "1.5.0",
          "state": {
            "_model_module": "@jupyter-widgets/controls",
            "_model_module_version": "1.5.0",
            "_model_name": "DescriptionStyleModel",
            "_view_count": null,
            "_view_module": "@jupyter-widgets/base",
            "_view_module_version": "1.2.0",
            "_view_name": "StyleView",
            "description_width": ""
          }
        },
        "cc8e48fc4fc5461c91c1fe3bc33df380": {
          "model_module": "@jupyter-widgets/controls",
          "model_name": "HBoxModel",
          "model_module_version": "1.5.0",
          "state": {
            "_dom_classes": [],
            "_model_module": "@jupyter-widgets/controls",
            "_model_module_version": "1.5.0",
            "_model_name": "HBoxModel",
            "_view_count": null,
            "_view_module": "@jupyter-widgets/controls",
            "_view_module_version": "1.5.0",
            "_view_name": "HBoxView",
            "box_style": "",
            "children": [
              "IPY_MODEL_81bc98634a554168a4db87dc971c2a6a",
              "IPY_MODEL_c469cf30b9044aac9de89ec7d8df8ad2",
              "IPY_MODEL_fa4d6a3d0b3a480dbf9fb343e7948bd6"
            ],
            "layout": "IPY_MODEL_eb2b850e5b7441f6a004a2c854750292"
          }
        },
        "81bc98634a554168a4db87dc971c2a6a": {
          "model_module": "@jupyter-widgets/controls",
          "model_name": "HTMLModel",
          "model_module_version": "1.5.0",
          "state": {
            "_dom_classes": [],
            "_model_module": "@jupyter-widgets/controls",
            "_model_module_version": "1.5.0",
            "_model_name": "HTMLModel",
            "_view_count": null,
            "_view_module": "@jupyter-widgets/controls",
            "_view_module_version": "1.5.0",
            "_view_name": "HTMLView",
            "description": "",
            "description_tooltip": null,
            "layout": "IPY_MODEL_69e7d8a687a24da1b87175525a5b6524",
            "placeholder": "​",
            "style": "IPY_MODEL_12ac7bcc24b741c399b62e042bd41917",
            "value": "Map (num_proc=4): 100%"
          }
        },
        "c469cf30b9044aac9de89ec7d8df8ad2": {
          "model_module": "@jupyter-widgets/controls",
          "model_name": "FloatProgressModel",
          "model_module_version": "1.5.0",
          "state": {
            "_dom_classes": [],
            "_model_module": "@jupyter-widgets/controls",
            "_model_module_version": "1.5.0",
            "_model_name": "FloatProgressModel",
            "_view_count": null,
            "_view_module": "@jupyter-widgets/controls",
            "_view_module_version": "1.5.0",
            "_view_name": "ProgressView",
            "bar_style": "success",
            "description": "",
            "description_tooltip": null,
            "layout": "IPY_MODEL_a78011a10ffe475ab39f688304fe49ce",
            "max": 74,
            "min": 0,
            "orientation": "horizontal",
            "style": "IPY_MODEL_89d4f13400e3471c8b14092b5e841857",
            "value": 74
          }
        },
        "fa4d6a3d0b3a480dbf9fb343e7948bd6": {
          "model_module": "@jupyter-widgets/controls",
          "model_name": "HTMLModel",
          "model_module_version": "1.5.0",
          "state": {
            "_dom_classes": [],
            "_model_module": "@jupyter-widgets/controls",
            "_model_module_version": "1.5.0",
            "_model_name": "HTMLModel",
            "_view_count": null,
            "_view_module": "@jupyter-widgets/controls",
            "_view_module_version": "1.5.0",
            "_view_name": "HTMLView",
            "description": "",
            "description_tooltip": null,
            "layout": "IPY_MODEL_8e003ab9ad664369a465bffe732591d9",
            "placeholder": "​",
            "style": "IPY_MODEL_a2fe2465ca2a4156870f7370ee49d2f2",
            "value": " 74/74 [00:17&lt;00:00, 13.30 examples/s]"
          }
        },
        "eb2b850e5b7441f6a004a2c854750292": {
          "model_module": "@jupyter-widgets/base",
          "model_name": "LayoutModel",
          "model_module_version": "1.2.0",
          "state": {
            "_model_module": "@jupyter-widgets/base",
            "_model_module_version": "1.2.0",
            "_model_name": "LayoutModel",
            "_view_count": null,
            "_view_module": "@jupyter-widgets/base",
            "_view_module_version": "1.2.0",
            "_view_name": "LayoutView",
            "align_content": null,
            "align_items": null,
            "align_self": null,
            "border": null,
            "bottom": null,
            "display": null,
            "flex": null,
            "flex_flow": null,
            "grid_area": null,
            "grid_auto_columns": null,
            "grid_auto_flow": null,
            "grid_auto_rows": null,
            "grid_column": null,
            "grid_gap": null,
            "grid_row": null,
            "grid_template_areas": null,
            "grid_template_columns": null,
            "grid_template_rows": null,
            "height": null,
            "justify_content": null,
            "justify_items": null,
            "left": null,
            "margin": null,
            "max_height": null,
            "max_width": null,
            "min_height": null,
            "min_width": null,
            "object_fit": null,
            "object_position": null,
            "order": null,
            "overflow": null,
            "overflow_x": null,
            "overflow_y": null,
            "padding": null,
            "right": null,
            "top": null,
            "visibility": null,
            "width": null
          }
        },
        "69e7d8a687a24da1b87175525a5b6524": {
          "model_module": "@jupyter-widgets/base",
          "model_name": "LayoutModel",
          "model_module_version": "1.2.0",
          "state": {
            "_model_module": "@jupyter-widgets/base",
            "_model_module_version": "1.2.0",
            "_model_name": "LayoutModel",
            "_view_count": null,
            "_view_module": "@jupyter-widgets/base",
            "_view_module_version": "1.2.0",
            "_view_name": "LayoutView",
            "align_content": null,
            "align_items": null,
            "align_self": null,
            "border": null,
            "bottom": null,
            "display": null,
            "flex": null,
            "flex_flow": null,
            "grid_area": null,
            "grid_auto_columns": null,
            "grid_auto_flow": null,
            "grid_auto_rows": null,
            "grid_column": null,
            "grid_gap": null,
            "grid_row": null,
            "grid_template_areas": null,
            "grid_template_columns": null,
            "grid_template_rows": null,
            "height": null,
            "justify_content": null,
            "justify_items": null,
            "left": null,
            "margin": null,
            "max_height": null,
            "max_width": null,
            "min_height": null,
            "min_width": null,
            "object_fit": null,
            "object_position": null,
            "order": null,
            "overflow": null,
            "overflow_x": null,
            "overflow_y": null,
            "padding": null,
            "right": null,
            "top": null,
            "visibility": null,
            "width": null
          }
        },
        "12ac7bcc24b741c399b62e042bd41917": {
          "model_module": "@jupyter-widgets/controls",
          "model_name": "DescriptionStyleModel",
          "model_module_version": "1.5.0",
          "state": {
            "_model_module": "@jupyter-widgets/controls",
            "_model_module_version": "1.5.0",
            "_model_name": "DescriptionStyleModel",
            "_view_count": null,
            "_view_module": "@jupyter-widgets/base",
            "_view_module_version": "1.2.0",
            "_view_name": "StyleView",
            "description_width": ""
          }
        },
        "a78011a10ffe475ab39f688304fe49ce": {
          "model_module": "@jupyter-widgets/base",
          "model_name": "LayoutModel",
          "model_module_version": "1.2.0",
          "state": {
            "_model_module": "@jupyter-widgets/base",
            "_model_module_version": "1.2.0",
            "_model_name": "LayoutModel",
            "_view_count": null,
            "_view_module": "@jupyter-widgets/base",
            "_view_module_version": "1.2.0",
            "_view_name": "LayoutView",
            "align_content": null,
            "align_items": null,
            "align_self": null,
            "border": null,
            "bottom": null,
            "display": null,
            "flex": null,
            "flex_flow": null,
            "grid_area": null,
            "grid_auto_columns": null,
            "grid_auto_flow": null,
            "grid_auto_rows": null,
            "grid_column": null,
            "grid_gap": null,
            "grid_row": null,
            "grid_template_areas": null,
            "grid_template_columns": null,
            "grid_template_rows": null,
            "height": null,
            "justify_content": null,
            "justify_items": null,
            "left": null,
            "margin": null,
            "max_height": null,
            "max_width": null,
            "min_height": null,
            "min_width": null,
            "object_fit": null,
            "object_position": null,
            "order": null,
            "overflow": null,
            "overflow_x": null,
            "overflow_y": null,
            "padding": null,
            "right": null,
            "top": null,
            "visibility": null,
            "width": null
          }
        },
        "89d4f13400e3471c8b14092b5e841857": {
          "model_module": "@jupyter-widgets/controls",
          "model_name": "ProgressStyleModel",
          "model_module_version": "1.5.0",
          "state": {
            "_model_module": "@jupyter-widgets/controls",
            "_model_module_version": "1.5.0",
            "_model_name": "ProgressStyleModel",
            "_view_count": null,
            "_view_module": "@jupyter-widgets/base",
            "_view_module_version": "1.2.0",
            "_view_name": "StyleView",
            "bar_color": null,
            "description_width": ""
          }
        },
        "8e003ab9ad664369a465bffe732591d9": {
          "model_module": "@jupyter-widgets/base",
          "model_name": "LayoutModel",
          "model_module_version": "1.2.0",
          "state": {
            "_model_module": "@jupyter-widgets/base",
            "_model_module_version": "1.2.0",
            "_model_name": "LayoutModel",
            "_view_count": null,
            "_view_module": "@jupyter-widgets/base",
            "_view_module_version": "1.2.0",
            "_view_name": "LayoutView",
            "align_content": null,
            "align_items": null,
            "align_self": null,
            "border": null,
            "bottom": null,
            "display": null,
            "flex": null,
            "flex_flow": null,
            "grid_area": null,
            "grid_auto_columns": null,
            "grid_auto_flow": null,
            "grid_auto_rows": null,
            "grid_column": null,
            "grid_gap": null,
            "grid_row": null,
            "grid_template_areas": null,
            "grid_template_columns": null,
            "grid_template_rows": null,
            "height": null,
            "justify_content": null,
            "justify_items": null,
            "left": null,
            "margin": null,
            "max_height": null,
            "max_width": null,
            "min_height": null,
            "min_width": null,
            "object_fit": null,
            "object_position": null,
            "order": null,
            "overflow": null,
            "overflow_x": null,
            "overflow_y": null,
            "padding": null,
            "right": null,
            "top": null,
            "visibility": null,
            "width": null
          }
        },
        "a2fe2465ca2a4156870f7370ee49d2f2": {
          "model_module": "@jupyter-widgets/controls",
          "model_name": "DescriptionStyleModel",
          "model_module_version": "1.5.0",
          "state": {
            "_model_module": "@jupyter-widgets/controls",
            "_model_module_version": "1.5.0",
            "_model_name": "DescriptionStyleModel",
            "_view_count": null,
            "_view_module": "@jupyter-widgets/base",
            "_view_module_version": "1.2.0",
            "_view_name": "StyleView",
            "description_width": ""
          }
        }
      }
    }
  },
  "cells": [
    {
      "cell_type": "markdown",
      "metadata": {
        "id": "view-in-github",
        "colab_type": "text"
      },
      "source": [
        "<a href=\"https://colab.research.google.com/github/Firdouscop/Learning/blob/main/Untitled0.ipynb\" target=\"_parent\"><img src=\"https://colab.research.google.com/assets/colab-badge.svg\" alt=\"Open In Colab\"/></a>"
      ]
    },
    {
      "cell_type": "code",
      "execution_count": 1,
      "metadata": {
        "id": "NZs76JhB2_Ka"
      },
      "outputs": [],
      "source": [
        "%%capture\n",
        "!pip install datasets\n",
        "!pip install transformers\n",
        "!pip install torchaudio+cu113 -f https://download.pytorch.org/whl/cu113/torch_stable.html\n",
        "!pip install librosa\n",
        "!pip install jiwer"
      ]
    },
    {
      "cell_type": "code",
      "source": [
        "from huggingface_hub import notebook_login\n",
        "\n",
        "notebook_login()"
      ],
      "metadata": {
        "colab": {
          "base_uri": "https://localhost:8080/",
          "height": 359,
          "referenced_widgets": [
            "580f1cbcddeb4d1a80dba686d8f5ac29",
            "ae391d70d17745b6a526acf18e42fe77",
            "95815e3592d148d8bc7761ec5e039fe6",
            "56db09f479344e4eb30c7ee297cdecfa",
            "06d2500923414903bed62a79407f7532",
            "6a9cd7ca94784da19607ad4f09fb4438",
            "0cc8810c41f94324a010437cb4412288",
            "51cc9b281a3440208aa3766a680c30dd",
            "272d2f62bb6a4e8092b129495c13228c",
            "8a64985779ca4380b0a5fe9f988f66f2",
            "768e5588d4ad4531a90be0415fdc1432",
            "efa351e50f76471e97c55f4edb4c5466",
            "40a467e55c6b43168b4bdfb7cb9c7da3",
            "b0bcb6151cfe4b0db1e7661c26c7ddc6",
            "b9d15a8c9cef460c91653d69dc813d9a",
            "b9f32d630f6340f9bcc15e6963ef928a",
            "12688fa39aec4bcd8eb2849b76ba900c"
          ]
        },
        "id": "eDPVbqGq3OZd",
        "outputId": "428d3554-6303-4a90-9d65-164a11946f7c"
      },
      "execution_count": 2,
      "outputs": [
        {
          "output_type": "display_data",
          "data": {
            "text/plain": [
              "VBox(children=(HTML(value='<center> <img\\nsrc=https://huggingface.co/front/assets/huggingface_logo-noborder.sv…"
            ],
            "application/vnd.jupyter.widget-view+json": {
              "version_major": 2,
              "version_minor": 0,
              "model_id": "580f1cbcddeb4d1a80dba686d8f5ac29"
            }
          },
          "metadata": {}
        }
      ]
    },
    {
      "cell_type": "code",
      "source": [
        "%%capture\n",
        "!apt install git-lfs"
      ],
      "metadata": {
        "id": "zee2p42MlEcq"
      },
      "execution_count": 3,
      "outputs": []
    },
    {
      "cell_type": "code",
      "source": [
        "from datasets import load_dataset\n",
        "\n",
        "common_voice_train = load_dataset(\"mozilla-foundation/common_voice_13_0\", \"ne-NP\", split=\"train+validation\")\n",
        "common_voice_test = load_dataset(\"mozilla-foundation/common_voice_13_0\", \"ne-NP\", split=\"test\")"
      ],
      "metadata": {
        "colab": {
          "base_uri": "https://localhost:8080/"
        },
        "id": "N1EpBzWA3OWn",
        "outputId": "ed305858-dcbe-469b-89f4-e9a5458e50a8"
      },
      "execution_count": 4,
      "outputs": [
        {
          "output_type": "stream",
          "name": "stderr",
          "text": [
            "/usr/local/lib/python3.10/dist-packages/huggingface_hub/utils/_token.py:89: UserWarning: \n",
            "The secret `HF_TOKEN` does not exist in your Colab secrets.\n",
            "To authenticate with the Hugging Face Hub, create a token in your settings tab (https://huggingface.co/settings/tokens), set it as secret in your Google Colab and restart your session.\n",
            "You will be able to reuse this secret in all of your notebooks.\n",
            "Please note that authentication is recommended but still optional to access public models or datasets.\n",
            "  warnings.warn(\n",
            "/usr/local/lib/python3.10/dist-packages/datasets/load.py:1486: FutureWarning: The repository for mozilla-foundation/common_voice_13_0 contains custom code which must be executed to correctly load the dataset. You can inspect the repository content at https://hf.co/datasets/mozilla-foundation/common_voice_13_0\n",
            "You can avoid this message in future by passing the argument `trust_remote_code=True`.\n",
            "Passing `trust_remote_code=True` will be mandatory to load this dataset from the next major release of `datasets`.\n",
            "  warnings.warn(\n",
            "/usr/local/lib/python3.10/dist-packages/datasets/load.py:1486: FutureWarning: The repository for mozilla-foundation/common_voice_13_0 contains custom code which must be executed to correctly load the dataset. You can inspect the repository content at https://hf.co/datasets/mozilla-foundation/common_voice_13_0\n",
            "You can avoid this message in future by passing the argument `trust_remote_code=True`.\n",
            "Passing `trust_remote_code=True` will be mandatory to load this dataset from the next major release of `datasets`.\n",
            "  warnings.warn(\n"
          ]
        }
      ]
    },
    {
      "cell_type": "code",
      "source": [
        "common_voice_train = common_voice_train.remove_columns([\"accent\", \"age\", \"client_id\", \"down_votes\", \"gender\", \"locale\", \"segment\", \"up_votes\"])\n",
        "common_voice_test = common_voice_test.remove_columns([\"accent\", \"age\", \"client_id\", \"down_votes\", \"gender\", \"locale\", \"segment\", \"up_votes\"])"
      ],
      "metadata": {
        "id": "V4T5BtKx3OTn"
      },
      "execution_count": 5,
      "outputs": []
    },
    {
      "cell_type": "code",
      "source": [
        "from datasets import ClassLabel\n",
        "import random\n",
        "import pandas as pd\n",
        "from IPython.display import display, HTML\n",
        "\n",
        "def show_random_elements(dataset, num_examples=10):\n",
        "    assert num_examples <= len(dataset), \"Can't pick more elements than there are in the dataset.\"\n",
        "    picks = []\n",
        "    for _ in range(num_examples):\n",
        "        pick = random.randint(0, len(dataset)-1)\n",
        "        while pick in picks:\n",
        "            pick = random.randint(0, len(dataset)-1)\n",
        "        picks.append(pick)\n",
        "\n",
        "    df = pd.DataFrame(dataset[picks])\n",
        "    display(HTML(df.to_html()))"
      ],
      "metadata": {
        "id": "rgUDTDqk3OPG"
      },
      "execution_count": 6,
      "outputs": []
    },
    {
      "cell_type": "code",
      "source": [
        "show_random_elements(common_voice_train.remove_columns([\"path\"]), num_examples=10)"
      ],
      "metadata": {
        "colab": {
          "base_uri": "https://localhost:8080/",
          "height": 1000
        },
        "id": "jRSIwig23OMV",
        "outputId": "1aabfb95-2ea1-4135-d745-ffa937f0c3d6"
      },
      "execution_count": 7,
      "outputs": [
        {
          "output_type": "display_data",
          "data": {
            "text/plain": [
              "<IPython.core.display.HTML object>"
            ],
            "text/html": [
              "<table border=\"1\" class=\"dataframe\">\n",
              "  <thead>\n",
              "    <tr style=\"text-align: right;\">\n",
              "      <th></th>\n",
              "      <th>audio</th>\n",
              "      <th>sentence</th>\n",
              "      <th>variant</th>\n",
              "    </tr>\n",
              "  </thead>\n",
              "  <tbody>\n",
              "    <tr>\n",
              "      <th>0</th>\n",
              "      <td>{'path': '/root/.cache/huggingface/datasets/downloads/extracted/448dda4a06aa260f9e276ccff46cfbd1f91934c7919d14a382817b1f58d5a760/ne-NP_train_0/common_voice_ne-NP_35314835.mp3', 'array': [-3.410605131648481e-13, 3.751665644813329e-12, 5.5706550483591855e-12, 1.0231815394945443e-12, -2.5011104298755527e-12, -1.7621459846850485e-12, -3.410605131648481e-13, 0.0, -3.979039320256561e-13, -1.1368683772161603e-12, -1.7053025658242404e-12, -7.389644451905042e-13, -1.2505552149377763e-12, -2.7284841053187847e-12, -3.865352482534945e-12, -2.9558577807620168e-12, -4.831690603168681e-12, -6.920686246303376e-12, -6.792788553866558e-12, -2.5579538487363607e-12, 1.3642420526593924e-12, 4.547473508864641e-13, -6.394884621840902e-12, -8.924416761146858e-12, 5.684341886080801e-13, 1.0629719326971099e-11, 9.549694368615746e-12, -5.684341886080801e-13, -2.1884716261411086e-12, 7.16227077646181e-12, 1.872990651463624e-11, 1.944044925039634e-11, 1.5859313862165436e-11, 1.7195134205394424e-11, 2.0747847884194925e-11, 1.574562702444382e-11, 5.343281372915953e-12, 6.0822458181064576e-12, 1.9667822925839573e-11, 2.4783730623312294e-11, 7.275957614183426e-12, -9.549694368615746e-12, 9.322320693172514e-12, 4.729372449219227e-11, 4.3655745685100555e-11, -2.8194335754960775e-11, -1.2187229003757238e-10, -1.695070750429295e-10, -1.567457275086781e-10, -1.3352519090403803e-10, -1.5143086784519255e-10, -1.9451817934168503e-10, -1.9974777387687936e-10, -1.4421175364986993e-10, -5.761080501542892e-11, 2.4073187887552194e-11, 7.51469997339882e-11, 7.349854058702476e-11, 3.89945853385143e-11, 3.5925040720030665e-11, 8.36735125631094e-11, 1.2028067430946976e-10, 6.889422365929931e-11, -6.536993168992922e-11, -1.9039703147427645e-10, -2.2919266484677792e-10, -2.1168489183764905e-10, -2.2714630176778883e-10, -3.02293301501777e-10, -3.6970959627069533e-10, -3.796003511524759e-10, -3.758486855076626e-10, -4.248477125656791e-10, -4.993125912733376e-10, -4.981757228961214e-10, -3.901163836417254e-10, -2.75349520961754e-10, -2.778506313916296e-10, -3.8983216654742137e-10, -4.5702108764089644e-10, -3.3799096854636446e-10, -7.457856554538012e-11, 1.4483703125733882e-10, 2.1645973902195692e-10, 2.361275619477965e-10, 3.255422598158475e-10, 4.324647306930274e-10, 4.128537511860486e-10, 2.5556801119819283e-10, 7.639755494892597e-11, -1.1004885891452432e-10, -4.278035703464411e-10, -8.679990060045384e-10, -1.169553343061125e-09, -1.1450538295321167e-09, -9.914629117702134e-10, -1.019998308038339e-09, -1.1318661563564092e-09, -8.828919817460701e-10, -1.6279955161735415e-10, ...], 'sampling_rate': 48000}</td>\n",
              "      <td>वाक्यहरु सकेसम्म पुरा लेखौ है साथीहरु ।</td>\n",
              "      <td></td>\n",
              "    </tr>\n",
              "    <tr>\n",
              "      <th>1</th>\n",
              "      <td>{'path': '/root/.cache/huggingface/datasets/downloads/extracted/448dda4a06aa260f9e276ccff46cfbd1f91934c7919d14a382817b1f58d5a760/ne-NP_train_0/common_voice_ne-NP_32826932.mp3', 'array': [0.0, 0.0, 0.0, 0.0, 0.0, 0.0, 0.0, 0.0, 0.0, 0.0, 0.0, 0.0, 0.0, 0.0, 0.0, 0.0, 0.0, 0.0, 0.0, 0.0, 0.0, 0.0, 0.0, 0.0, 0.0, 0.0, 0.0, 0.0, 0.0, 0.0, 0.0, 0.0, 0.0, 0.0, 0.0, 0.0, 0.0, 0.0, 0.0, 0.0, 0.0, 0.0, 0.0, 0.0, 0.0, 0.0, 0.0, 0.0, 0.0, 0.0, 0.0, 0.0, 0.0, 0.0, 0.0, 0.0, 0.0, 0.0, 0.0, 0.0, 0.0, 0.0, 0.0, 0.0, 0.0, 0.0, 0.0, 0.0, 0.0, 0.0, 0.0, 0.0, 0.0, 0.0, 0.0, 0.0, 0.0, 0.0, 0.0, 0.0, 0.0, 0.0, 0.0, 0.0, 0.0, 0.0, 0.0, 0.0, 0.0, 0.0, 0.0, 0.0, 0.0, 0.0, 0.0, 0.0, 0.0, 0.0, 0.0, 0.0, ...], 'sampling_rate': 48000}</td>\n",
              "      <td>अाबिस्कार, तिम्रो घर कता हो?</td>\n",
              "      <td></td>\n",
              "    </tr>\n",
              "    <tr>\n",
              "      <th>2</th>\n",
              "      <td>{'path': '/root/.cache/huggingface/datasets/downloads/extracted/7c17b4ecf0ff2591c22b82b6379a71c53dd8402805569fa496dbfd0e486298f5/ne-NP_dev_0/common_voice_ne-NP_32914871.mp3', 'array': [-5.872982349126496e-23, 2.3161057151484775e-23, 9.926167350636332e-24, 3.350081480839762e-23, -6.617444900424221e-23, -1.0836066024444663e-22, -4.3840572465310467e-23, 1.075334796318936e-22, 3.308722450212111e-24, -2.9778502051908996e-23, -3.3087224502121107e-23, -1.9852334701272664e-23, 4.301339185275744e-23, -1.3234889800848443e-23, 2.3161057151484775e-23, 7.465305028291075e-23, 6.152155805863143e-23, 3.6602742105471475e-23, -2.357464745776129e-23, -2.2644069268639133e-23, 1.0960143116327617e-23, 1.0339757656912846e-24, 4.880365614062863e-23, -2.4970514741444523e-23, -8.892191584945048e-24, -6.369290716658313e-23, -5.9582853497960275e-24, 1.1580528575742387e-23, -2.2333876538931747e-23, -1.075334796318936e-22, -3.7223127564886245e-23, -2.895132143935597e-23, -3.7223127564886245e-24, 0.0, 4.632211430296955e-23, 4.301339185275744e-23, 6.617444900424221e-23, -2.6469779601696886e-23, -6.617444900424221e-23, 1.7205356741102976e-22, 6.617444900424221e-23, 1.1911400820763599e-22, 6.617444900424221e-23, 1.5881867761018131e-22, 1.0587911840678754e-22, 0.0, -7.940933880509066e-23, 3.1846453583291565e-23, 4.963083675318166e-23, 1.9025154088719637e-23, 5.769584772557368e-23, 9.26442286059391e-23, 2.0679515313825692e-24, 2.68833699079734e-24, 4.756288522179909e-23, 3.422459784438152e-23, -2.812414082680294e-23, 3.9911464555683585e-23, 1.0003715533063178e-22, 4.632211430296955e-23, 3.6602742105471475e-23, 8.041746517663966e-23, 3.019209235818551e-23, 3.7326525141455374e-23, 5.025122221259643e-23, 6.017738956323276e-23, -6.327931686030662e-23, -7.299868905780469e-23, 3.422459784438152e-23, 6.059097986950928e-23, 8.675056674149878e-23, -4.4667753077863494e-23, -1.5716431638507526e-23, 2.186858744437067e-23, 1.3358966892731397e-22, 1.0505193779423451e-22, 1.6740067646541898e-22, 1.166324663699769e-22, -1.5716431638507526e-23, 7.444625512977249e-24, 4.3840572465310467e-23, 4.4667753077863494e-23, -3.639594695233322e-23, -9.26442286059391e-23, -9.098986738083304e-24, -9.843449289381029e-23, -1.0836066024444663e-22, -1.5819829215076654e-23, -4.1359030627651384e-23, -7.196471329211341e-23, -3.5116401942290253e-23, -1.6543612251060553e-23, 6.948317145445432e-23, 3.422459784438152e-23, 1.9852334701272664e-23, 2.3161057151484775e-23, 3.1226068123876795e-23, 7.940933880509066e-23, -2.6469779601696886e-23, -3.308722450212111e-24, ...], 'sampling_rate': 48000}</td>\n",
              "      <td>कोही नेताले चुनाव हार्दैमा मुलक बरबाद हुँदैन ।</td>\n",
              "      <td></td>\n",
              "    </tr>\n",
              "    <tr>\n",
              "      <th>3</th>\n",
              "      <td>{'path': '/root/.cache/huggingface/datasets/downloads/extracted/448dda4a06aa260f9e276ccff46cfbd1f91934c7919d14a382817b1f58d5a760/ne-NP_train_0/common_voice_ne-NP_35314123.mp3', 'array': [1.4210854715202004e-13, -1.1368683772161603e-13, -5.684341886080801e-13, -1.5631940186722204e-12, -1.5063505998114124e-12, -7.958078640513122e-13, -5.684341886080801e-13, -7.958078640513122e-13, -6.821210263296962e-13, -5.400124791776761e-13, 2.5579538487363607e-13, 1.2505552149377763e-12, 1.4779288903810084e-12, -3.126388037344441e-13, -2.2453150450019166e-12, -2.1600499167107046e-12, 2.842170943040401e-14, 1.9042545318370685e-12, 5.400124791776761e-13, -3.097966327914037e-12, -4.945377440890297e-12, -1.3073986337985843e-12, 4.149569576838985e-12, 5.073275133327115e-12, 0.0, -5.4285465012071654e-12, -4.561684363579843e-12, 2.5508484213787597e-12, 8.256506589532364e-12, 5.6843418860808015e-12, -1.9895196601282805e-12, -5.286437954055145e-12, 1.5489831639570184e-12, 1.1112888387287967e-11, 1.2136069926782511e-11, 1.7905676941154525e-12, -8.824940778140444e-12, -9.116263299802085e-12, 4.547473508864641e-13, 9.43600753089413e-12, 1.1254996934439987e-11, 8.981260180007666e-12, 9.322320693172514e-12, 1.6967760529951192e-11, 2.9046987037872896e-11, 3.2599700716673397e-11, 1.6996182239381596e-11, -7.560174708487466e-12, -1.5930368135741446e-11, 1.3642420526593924e-12, 1.9952040020143613e-11, 1.0260237104375847e-11, -2.4215296434704214e-11, -5.1443294069031253e-11, -5.502442945726216e-11, -4.7919002099661157e-11, -4.0756731323199347e-11, -1.892885848064907e-11, 2.1941559680271894e-11, 4.604316927725449e-11, 2.0236257114447653e-11, -2.376054908381775e-11, -1.0459189070388675e-11, 7.554490366601385e-11, 1.5066348169057164e-10, 1.2897771739517339e-10, 3.5356606531422585e-11, -2.3248958314070478e-11, 9.947598300641403e-12, 7.611333785462193e-11, 8.50945980346296e-11, 3.3082869776990265e-11, 4.476419235288631e-13, 3.7829295251867734e-11, 8.810729923425242e-11, 6.002665031701326e-11, -3.703348738781642e-11, -7.167955118347891e-11, 5.127276381244883e-11, 2.374633822910255e-10, 2.79499090538593e-10, 1.1391421139705926e-10, -7.395328793791123e-11, -7.401013135677204e-11, 7.457856554538012e-11, 1.3807266441290267e-10, 1.028865881380625e-11, -1.6154899640241638e-10, -2.1651658244081773e-10, -1.9414869711908977e-10, -2.0691004465334117e-10, -2.1643131731252652e-10, -1.07775122160092e-10, 6.866684998385608e-11, 1.106172931031324e-10, -4.5929482439532876e-11, -1.8883383745560423e-10, -1.000444171950221e-10, 1.4912870938132983e-10, 3.012559091075673e-10, ...], 'sampling_rate': 48000}</td>\n",
              "      <td>गर्दिन म अलमल ।</td>\n",
              "      <td></td>\n",
              "    </tr>\n",
              "    <tr>\n",
              "      <th>4</th>\n",
              "      <td>{'path': '/root/.cache/huggingface/datasets/downloads/extracted/448dda4a06aa260f9e276ccff46cfbd1f91934c7919d14a382817b1f58d5a760/ne-NP_train_0/common_voice_ne-NP_35314783.mp3', 'array': [-1.4210854715202004e-14, 1.1368683772161603e-13, -5.684341886080802e-14, -3.410605131648481e-13, -5.968558980384842e-13, -8.526512829121202e-13, -8.952838470577262e-13, -5.044853423896711e-13, -1.3500311979441904e-13, -1.7053025658242404e-13, -5.258016244624741e-13, -9.166001291305292e-13, -1.0409451078885468e-12, -7.602807272633072e-13, -4.689582056016661e-13, -4.263256414560601e-13, -6.679101716144942e-13, -9.094947017729282e-13, -1.1652900866465643e-12, -1.4495071809506044e-12, -1.6910917111090384e-12, -1.98596694644948e-12, -2.2097879082139116e-12, -1.6200374375330284e-12, -1.4210854715202004e-14, 2.0463630789890885e-12, 3.382183422218077e-12, 3.552713678800501e-12, 3.183231456205249e-12, 2.9842794901924208e-12, 2.8563817977556027e-12, 2.6290081223123707e-12, 2.2026824808563106e-12, 1.9468870959826745e-12, 2.8421709430404007e-12, 4.68247662865906e-12, 6.245670647331281e-12, 6.0538241086760536e-12, 3.751665644813329e-12, 1.4495071809506044e-12, 2.8279600883251987e-12, 9.173106718662893e-12, 1.667643800828955e-11, 1.907807245515869e-11, 1.4388490399142029e-11, 6.73594513500575e-12, 7.247535904753022e-13, -2.6290081223123707e-12, -3.730349362740526e-12, -7.105427357601002e-13, 8.384404281969182e-12, 1.9483081814541947e-11, 2.2538415578310378e-11, 1.2434497875801753e-11, -3.630873379734112e-12, -1.3386625141720288e-11, -1.170263885796885e-11, -2.7640112421067897e-12, 7.261746759468224e-12, 1.3173462320992257e-11, 7.510436716984259e-12, -1.3088197192701045e-11, -3.743849674719968e-11, -4.404654418976861e-11, -2.830802259268239e-11, -1.1922907106054481e-11, -1.743671873555286e-11, -3.858247055177344e-11, -5.051958851254312e-11, -4.3968384488835e-11, -3.602451670303708e-11, -4.219913307679235e-11, -5.397282620833721e-11, -5.752553988713771e-11, -6.066613877919735e-11, -7.677414259887883e-11, -9.21893672511942e-11, -8.051159738897695e-11, -4.898481620330131e-11, -3.880984422721667e-11, -6.873790425743209e-11, -1.0242473535981844e-10, -9.269029987990507e-11, -4.1239900383516215e-11, 7.005951374594588e-12, 2.1671553440683056e-11, 1.0203393685515039e-11, -1.2775558388966601e-11, -4.18225454268395e-11, -5.775291356258094e-11, -2.6901147975877393e-11, 5.1102233555866405e-11, 1.2004619520666893e-10, 1.191864384963992e-10, 5.0754067615343956e-11, -2.3931079340400174e-11, -5.494626975632855e-11, -4.333600145400851e-11, -2.6005864128819667e-12, 7.737099849691731e-11, ...], 'sampling_rate': 48000}</td>\n",
              "      <td>घाँटी हेरी हाड निल्नु ।</td>\n",
              "      <td></td>\n",
              "    </tr>\n",
              "    <tr>\n",
              "      <th>5</th>\n",
              "      <td>{'path': '/root/.cache/huggingface/datasets/downloads/extracted/448dda4a06aa260f9e276ccff46cfbd1f91934c7919d14a382817b1f58d5a760/ne-NP_train_0/common_voice_ne-NP_32521157.mp3', 'array': [0.0, 0.0, 0.0, 0.0, 0.0, 0.0, 0.0, 0.0, 0.0, 0.0, 0.0, 0.0, 0.0, 0.0, 0.0, 0.0, 0.0, 0.0, 0.0, 0.0, 0.0, 0.0, 0.0, 0.0, 0.0, 0.0, 0.0, 0.0, 0.0, 0.0, 0.0, 0.0, 0.0, 0.0, 0.0, 0.0, 0.0, 0.0, 0.0, 0.0, 0.0, 0.0, 0.0, 0.0, 0.0, 0.0, 0.0, 0.0, 0.0, 0.0, 0.0, 0.0, 0.0, 0.0, 0.0, 0.0, 0.0, 0.0, 0.0, 0.0, 0.0, 0.0, 0.0, 0.0, 0.0, 0.0, 0.0, 0.0, 0.0, 0.0, 0.0, 0.0, 0.0, 0.0, 0.0, 0.0, 0.0, 0.0, 0.0, 0.0, 0.0, 0.0, 0.0, 0.0, 0.0, 0.0, 0.0, 0.0, 0.0, 0.0, 0.0, 0.0, 0.0, 0.0, 0.0, 0.0, 0.0, 0.0, 0.0, 0.0, ...], 'sampling_rate': 48000}</td>\n",
              "      <td>मेरो घर चितवन हो ।</td>\n",
              "      <td></td>\n",
              "    </tr>\n",
              "    <tr>\n",
              "      <th>6</th>\n",
              "      <td>{'path': '/root/.cache/huggingface/datasets/downloads/extracted/7c17b4ecf0ff2591c22b82b6379a71c53dd8402805569fa496dbfd0e486298f5/ne-NP_dev_0/common_voice_ne-NP_32914851.mp3', 'array': [8.526512829121202e-14, 5.115907697472721e-13, 7.673861546209082e-13, 3.694822225952521e-13, -4.263256414560601e-13, -7.105427357601002e-13, -6.536993168992922e-13, -1.9895196601282805e-13, 5.115907697472721e-13, 5.115907697472721e-13, 8.526512829121202e-14, -7.673861546209082e-13, -9.450218385609332e-13, -2.8421709430404007e-13, 7.247535904753022e-13, 1.7905676941154525e-12, 2.4442670110147446e-12, 1.8900436771218665e-12, 7.247535904753022e-13, -1.1368683772161603e-13, 1.9895196601282805e-13, 1.1937117960769683e-12, 1.8758328224066645e-12, 1.6200374375330284e-12, 1.1368683772161603e-13, -1.7337242752546445e-12, -2.34123831432953e-12, -1.7905676941154525e-12, -5.115907697472721e-13, -2.842170943040401e-14, -1.6484591469634324e-12, -5.151434834260726e-12, -8.846257060213247e-12, -9.137579581874888e-12, -4.703792910731863e-12, 2.0747847884194925e-12, 6.565414878423326e-12, 5.201172825763933e-12, -1.1226575225009583e-12, -7.290168468898628e-12, -6.423306331271306e-12, 2.2737367544323206e-12, 1.2846612662542611e-11, 1.693933882052079e-11, 9.279688129026908e-12, -7.332801033044234e-12, -2.063416104647331e-11, -1.9554136088117957e-11, -8.242295734817162e-12, 1.2789769243681803e-13, -2.0179413695586845e-12, -1.1993961379630491e-11, -1.787725523172412e-11, -6.338041202980094e-12, 2.0094148567295633e-11, 3.5839775591739453e-11, 1.717381792332162e-11, -2.992806003021542e-11, -7.003109203651547e-11, -6.752998160663992e-11, -2.1149304529899382e-11, 3.1661784305470064e-11, 4.7691628424217924e-11, 1.9461765532469144e-11, -1.84456894203322e-11, -2.6545876607997343e-11, 2.7000623958883807e-12, 4.214939508528914e-11, 6.107825356593821e-11, 5.623235210805433e-11, 4.787636953551555e-11, 5.17630383001233e-11, 6.435385557779227e-11, 7.500489118683618e-11, 8.134293238981627e-11, 8.606093615526333e-11, 8.057554623519536e-11, 4.700950739788823e-11, -1.0231815394945443e-11, -4.794742380909156e-11, -2.0108359422010835e-11, 6.31104057902121e-11, 1.2357759260339662e-10, 7.700862170167966e-11, -7.489120434911456e-11, -2.2114932107797358e-10, -2.3385382519336417e-10, -9.205791684507858e-11, 9.00399754755199e-11, 1.638795765757095e-10, 8.142819751810748e-11, -6.076561476220377e-11, -1.1618794815149158e-10, -3.2798652682686225e-11, 1.0410872164356988e-10, 1.5279510989785194e-10, 4.331468517193571e-11, -1.5204193459794624e-10, -2.6216184778604656e-10, -1.6640910871501546e-10, ...], 'sampling_rate': 48000}</td>\n",
              "      <td>विधेयक तयार गर्न सरकारले आयोगका पदाधिकारीसँग छलफल गरेन ।</td>\n",
              "      <td></td>\n",
              "    </tr>\n",
              "    <tr>\n",
              "      <th>7</th>\n",
              "      <td>{'path': '/root/.cache/huggingface/datasets/downloads/extracted/448dda4a06aa260f9e276ccff46cfbd1f91934c7919d14a382817b1f58d5a760/ne-NP_train_0/common_voice_ne-NP_35314868.mp3', 'array': [1.8189894035458565e-12, -6.821210263296962e-13, -2.6147972675971687e-12, -3.979039320256561e-12, -8.640199666842818e-12, -1.0686562745831907e-11, -8.412825991399586e-12, -7.73070496506989e-12, -8.981260180007666e-12, -1.0118128557223827e-11, -8.412825991399586e-12, -1.7053025658242404e-12, 3.410605131648481e-12, 2.2737367544323206e-13, -2.9558577807620168e-12, 4.320099833421409e-12, 1.4097167877480388e-11, 1.1596057447604835e-11, -1.8189894035458565e-12, -5.4569682106375694e-12, 2.2737367544323206e-13, -5.115907697472721e-12, -1.949729266925715e-11, -2.1543655748246238e-11, -2.2737367544323206e-13, 2.5011104298755527e-11, 2.319211489520967e-11, 4.547473508864641e-12, 0.0, 1.1254996934439987e-11, 4.774847184307873e-12, -2.773958840407431e-11, -4.774847184307873e-11, -2.5011104298755527e-11, 8.86757334228605e-12, 5.5138116294983774e-12, -2.4556356947869062e-11, -5.002220859751105e-12, 8.617462299298495e-11, 1.6507328837178648e-10, 1.5756995708215982e-10, 1.1937117960769683e-10, 1.3596945791505277e-10, 1.8690116121433675e-10, 1.772377800079994e-10, 8.685674401931465e-11, 2.4556356947869062e-11, 8.799361239653081e-11, 2.2612312022829428e-10, 2.894466888392344e-10, 2.3646862246096134e-10, 1.5688783605583012e-10, 1.3096723705530167e-10, 1.673470251262188e-10, 2.573870006017387e-10, 3.774403012357652e-10, 4.6202330850064754e-10, 4.1802650230238214e-10, 2.2942003852222115e-10, 2.5920599000528455e-11, -3.092281986027956e-11, 5.2295945351943374e-11, 1.4370016288012266e-10, 2.0327206584624946e-10, 3.23325366480276e-10, 4.897628969047219e-10, 4.893081495538354e-10, 1.418811734765768e-10, -4.431512934388593e-10, -8.990355127025396e-10, -9.75887815002352e-10, -8.135430107358843e-10, -7.725020623183809e-10, -1.0136886885447893e-09, -1.3235990081739146e-09, -1.3242242857813835e-09, -8.153620001394302e-10, -1.3415046851150692e-11, 5.792344381916337e-10, 6.532445695484057e-10, 3.992681740783155e-10, 1.8917489796876907e-10, 1.369357960356865e-10, 9.822542779147625e-11, 2.114575181622058e-11, 8.617462299298495e-11, 4.0517988963983953e-10, 7.78982212068513e-10, 9.138148016063496e-10, 8.18090484244749e-10, 7.414655556203797e-10, 7.812559488229454e-10, 8.476490620523691e-10, 9.854375093709677e-10, 1.3369572116062045e-09, 1.7050751921487972e-09, 1.5697878552600741e-09, 8.662937034387141e-10, 3.8630787457805127e-10, 9.325731298304163e-10, ...], 'sampling_rate': 48000}</td>\n",
              "      <td>हिजो निकै रोमाञ्चक खेल भएको थियो।</td>\n",
              "      <td></td>\n",
              "    </tr>\n",
              "    <tr>\n",
              "      <th>8</th>\n",
              "      <td>{'path': '/root/.cache/huggingface/datasets/downloads/extracted/448dda4a06aa260f9e276ccff46cfbd1f91934c7919d14a382817b1f58d5a760/ne-NP_train_0/common_voice_ne-NP_35314873.mp3', 'array': [-1.1368683772161603e-13, -7.389644451905042e-13, -1.1084466677857563e-12, 2.7853275241795927e-12, 7.219114195322618e-12, 6.59383658785373e-12, 3.069544618483633e-12, 0.0, 1.0231815394945443e-12, 7.275957614183426e-12, 1.3642420526593924e-11, 1.318767317570746e-11, 6.252776074688882e-12, 3.410605131648481e-12, 2.1600499167107046e-12, -3.979039320256561e-12, -7.958078640513122e-12, -2.2737367544323206e-13, 8.412825991399586e-12, 1.5916157281026244e-12, -1.1880274541908875e-11, -9.464429240324534e-12, 1.1027623258996755e-11, 2.0463630789890885e-11, 2.2737367544323206e-13, -2.4272139853565022e-11, -1.4438228390645236e-11, 1.5688783605583012e-11, 2.1600499167107046e-11, -4.490630090003833e-12, -2.034994395216927e-11, -1.4210854715202004e-12, 2.660272002685815e-11, 2.376054908381775e-11, -4.547473508864641e-12, -2.5011104298755527e-11, -3.979039320256561e-11, -7.66249286243692e-11, -1.2187229003757238e-10, -1.113562575483229e-10, -3.410605131648481e-11, 1.3869794202037156e-11, -4.320099833421409e-11, -1.3773160389973782e-10, -1.411422090313863e-10, -4.4792614062316716e-11, 2.8762769943568856e-11, 3.296918293926865e-12, -5.996980689815246e-11, -6.377831596182659e-11, -2.432898327242583e-11, -3.6777692002942786e-11, -1.0820144780154806e-10, -1.3420731193036772e-10, -7.992184691829607e-11, -4.956746124662459e-11, -1.0595613275654614e-10, -1.6143530956469476e-10, -1.20508047984913e-10, -4.0245140553452075e-11, -6.014033715473488e-11, -1.965076990018133e-10, -2.959268385893665e-10, -2.452793523843866e-10, -1.624584911041893e-10, -2.446540747769177e-10, -4.630464900401421e-10, -5.89807314099744e-10, -5.243236955720931e-10, -4.3655745685100555e-10, -5.443325790110976e-10, -8.144525054376572e-10, -9.911218512570485e-10, -9.135874279309064e-10, -7.485141395591199e-10, -7.753442332614213e-10, -9.87142811936792e-10, -1.0832081898115575e-09, -8.850520316627808e-10, -6.112941264291294e-10, -6.056097845430486e-10, -8.452616384602152e-10, -9.109726306633092e-10, -5.591118679149076e-10, -1.291482476517558e-10, -1.2607870303327218e-10, -5.11931830260437e-10, -7.509015631512739e-10, -5.640004019369371e-10, -2.950173438875936e-10, -3.261675374233164e-10, -4.6293280320242047e-10, -2.6557245291769505e-10, 1.4870238373987377e-10, 2.2919266484677792e-10, -7.66249286243692e-11, -1.8485479813534766e-10, 9.049472282640636e-11, 7.412381819449365e-11, -6.796199158998206e-10, ...], 'sampling_rate': 48000}</td>\n",
              "      <td>मेरो पनि परीक्षा अाउदैँ छ नि त ।</td>\n",
              "      <td></td>\n",
              "    </tr>\n",
              "    <tr>\n",
              "      <th>9</th>\n",
              "      <td>{'path': '/root/.cache/huggingface/datasets/downloads/extracted/448dda4a06aa260f9e276ccff46cfbd1f91934c7919d14a382817b1f58d5a760/ne-NP_train_0/common_voice_ne-NP_35314705.mp3', 'array': [1.1368683772161603e-13, 1.0231815394945443e-12, 2.0463630789890885e-12, -9.094947017729282e-13, -2.2737367544323206e-12, -2.1600499167107046e-12, -1.7053025658242404e-12, 4.547473508864641e-13, 2.5011104298755527e-12, 3.126388037344441e-13, -4.490630090003833e-12, -3.410605131648481e-12, 9.15179043659009e-12, 2.1742607714259066e-11, 2.3021584638627246e-11, 1.1681322575896047e-11, 4.604316927725449e-12, 5.6274984672199935e-12, 3.524291969370097e-12, -1.2732925824820995e-11, -2.7625901566352695e-11, -1.5802470443304628e-11, 1.4338752407638822e-11, 2.6147972675971687e-11, -4.547473508864641e-13, -2.955857780762017e-11, -1.659827830735594e-11, 2.9388047551037744e-11, 4.808953235624358e-11, 2.1373125491663814e-11, -8.86757334228605e-12, -1.2732925824820995e-11, -1.8530954548623413e-11, -6.065192792448215e-11, -1.1817746781161986e-10, -1.2633449841814581e-10, -5.994138518872205e-11, 1.6541434888495132e-11, 2.6261659513693303e-11, -1.887201506178826e-11, -3.888089850079268e-11, -8.640199666842818e-12, 3.3082869776990265e-11, 5.093170329928398e-11, 4.1154635255225e-11, 1.0231815394945443e-11, -2.927436071331613e-11, -4.786215868080035e-11, -1.0174971976084635e-11, 7.742073648842052e-11, 1.4938450476620346e-10, 1.3790213415632024e-10, 4.3002046368201263e-11, -8.43556335894391e-11, -2.0736479200422764e-10, -2.921751729445532e-10, -2.6761881599668413e-10, -1.007265382213518e-10, 8.003553375601768e-11, 6.724576451233588e-11, -1.6825651982799172e-10, -3.8971847970969975e-10, -3.7607605918310583e-10, -1.8064838513964787e-10, -2.8336444302112795e-11, -2.4442670110147446e-11, -9.185896487906575e-11, -1.4870238373987377e-10, -1.9824142327706795e-10, -2.2799895305070095e-10, -1.37674760480877e-10, 9.072209650184959e-11, 2.695514922379516e-10, 2.2021140466677025e-10, 2.5977442419389263e-11, -1.0118128557223827e-10, -1.0942358130705543e-10, -8.833467290969566e-11, -5.2523319027386606e-11, 2.091837814077735e-11, -5.9117155615240335e-12, -3.254854163969867e-10, -7.808012014720589e-10, -8.39690983411856e-10, -2.750084604485892e-10, 3.531113179633394e-10, 2.816022970364429e-10, -4.78166839457117e-10, -1.1586962500587106e-09, -1.1987140169367194e-09, -7.75742137193447e-10, -3.0166802389430813e-10, 1.8275159163749777e-10, 7.621565600857139e-10, 1.0992380339303054e-09, 7.10883796273265e-10, -1.837179297581315e-10, -6.805294106015936e-10, -2.554543243604712e-10, 5.829292604175862e-10, ...], 'sampling_rate': 48000}</td>\n",
              "      <td>अल्छी लागेर आयो ।</td>\n",
              "      <td></td>\n",
              "    </tr>\n",
              "  </tbody>\n",
              "</table>"
            ]
          },
          "metadata": {}
        }
      ]
    },
    {
      "cell_type": "code",
      "source": [
        "import re\n",
        "chars_to_ignore_regex = '[\\,\\?\\.\\!\\-\\;\\:\\\"\\“\\%\\‘\\”\\�]'\n",
        "\n",
        "def remove_special_characters(batch):\n",
        "    batch[\"sentence\"] = re.sub(chars_to_ignore_regex, '', batch[\"sentence\"]).lower() + \" \"\n",
        "    return batch"
      ],
      "metadata": {
        "id": "8n9UZb9E3OJt"
      },
      "execution_count": 8,
      "outputs": []
    },
    {
      "cell_type": "code",
      "source": [
        "common_voice_train = common_voice_train.map(remove_special_characters)\n",
        "common_voice_test = common_voice_test.map(remove_special_characters)"
      ],
      "metadata": {
        "id": "fEi_PKNC3OHW"
      },
      "execution_count": 9,
      "outputs": []
    },
    {
      "cell_type": "code",
      "source": [
        "show_random_elements(common_voice_train.remove_columns([\"path\"]))"
      ],
      "metadata": {
        "colab": {
          "base_uri": "https://localhost:8080/",
          "height": 1000
        },
        "id": "wmUoy6rw3OFW",
        "outputId": "6479f30f-b5e0-465d-acae-0ce9ce7410ae"
      },
      "execution_count": 10,
      "outputs": [
        {
          "output_type": "display_data",
          "data": {
            "text/plain": [
              "<IPython.core.display.HTML object>"
            ],
            "text/html": [
              "<table border=\"1\" class=\"dataframe\">\n",
              "  <thead>\n",
              "    <tr style=\"text-align: right;\">\n",
              "      <th></th>\n",
              "      <th>audio</th>\n",
              "      <th>sentence</th>\n",
              "      <th>variant</th>\n",
              "    </tr>\n",
              "  </thead>\n",
              "  <tbody>\n",
              "    <tr>\n",
              "      <th>0</th>\n",
              "      <td>{'path': '/root/.cache/huggingface/datasets/downloads/extracted/448dda4a06aa260f9e276ccff46cfbd1f91934c7919d14a382817b1f58d5a760/ne-NP_train_0/common_voice_ne-NP_35314632.mp3', 'array': [5.684341886080802e-14, -3.865352482534945e-12, -4.092726157978177e-12, 4.092726157978177e-12, 9.066525308298878e-12, 6.480149750132114e-12, 3.922195901395753e-12, 6.480149750132114e-12, 1.000444171950221e-11, 1.2732925824820995e-11, 9.777068044058979e-12, 3.637978807091713e-12, 4.661160346586257e-12, 1.2505552149377763e-11, 1.3585577107733116e-11, 2.3874235921539366e-12, 1.1368683772161603e-13, 1.6143530956469476e-11, 2.8194335754960775e-11, 1.48929757415317e-11, -1.375610736431554e-11, -2.1941559680271894e-11, 7.958078640513122e-13, 1.8246737454319373e-11, 4.547473508864641e-13, -1.9895196601282805e-11, 1.3642420526593924e-12, 4.027356226288248e-11, 2.864908310584724e-11, -3.524291969370097e-11, -7.358380571531598e-11, -4.4224179873708636e-11, 1.7621459846850485e-12, -1.1510792319313623e-11, -6.684786058031023e-11, -7.79891706770286e-11, -2.5124791136477143e-11, -8.86757334228605e-12, -9.833911462919787e-11, -2.0168045011814684e-10, -1.8485479813534766e-10, -8.36735125631094e-11, -5.439915184979327e-11, -1.3386625141720288e-10, -1.8599166651256382e-10, -9.202949513564818e-11, 8.446932042716071e-11, 1.7553247744217515e-10, 1.23463905765675e-10, 5.002220859751105e-11, 6.048139766789973e-11, 9.072209650184959e-11, 4.354205884737894e-11, -3.4788172342814505e-11, -2.2737367544323206e-11, 9.663381206337363e-11, 2.3169377527665347e-10, 3.0394176064874046e-10, 3.2008529160520993e-10, 3.311697582830675e-10, 3.406057658139616e-10, 2.964952727779746e-10, 1.7996626411331818e-10, 5.3432813729159534e-11, -5.9117155615240335e-12, 4.4565240386873484e-11, 1.8485479813534766e-10, 3.0331648304127157e-10, 2.625029082992114e-10, 3.467448550509289e-11, -2.637534635141492e-10, -5.034621608501766e-10, -6.100435712141916e-10, -5.333049557521008e-10, -2.516173935873667e-10, 1.1664269550237805e-10, 3.299192030681297e-10, 2.45449882640969e-10, -1.6825651982799172e-11, -2.1827872842550278e-10, -2.4135715648299083e-10, -1.2789769243681803e-10, 7.185008144006133e-11, 3.647073754109442e-10, 7.084963726811111e-10, 9.613358997739851e-10, 1.025341589411255e-09, 9.53448875407048e-10, 7.792664291628171e-10, 4.326352609496098e-10, -1.1382894626876805e-11, -2.3010215954855084e-10, -6.161826604511589e-11, 2.2458834791905247e-10, 3.5629454941954464e-10, 5.19321474712342e-10, 9.58095824898919e-10, 1.2462919585232157e-09, 5.841229722136632e-10, -9.481482265982777e-10, ...], 'sampling_rate': 48000}</td>\n",
              "      <td>बोटलाई नि भिडियो देखाइदिनु भाको</td>\n",
              "      <td></td>\n",
              "    </tr>\n",
              "    <tr>\n",
              "      <th>1</th>\n",
              "      <td>{'path': '/root/.cache/huggingface/datasets/downloads/extracted/7c17b4ecf0ff2591c22b82b6379a71c53dd8402805569fa496dbfd0e486298f5/ne-NP_dev_0/common_voice_ne-NP_32914795.mp3', 'array': [3.412120026781239e-23, 9.926167350636332e-24, 2.0679515313825692e-24, -3.9291079096268815e-23, 0.0, 3.5361971186641933e-23, 3.0605682664462024e-23, -9.719372197498075e-24, -1.0132962503774589e-23, 1.8611563782443123e-24, 1.1683926152311516e-23, 1.4579058296247113e-23, 7.444625512977249e-24, -1.6543612251060553e-23, -2.812414082680294e-23, -1.747419044018271e-23, -1.6905503769052503e-23, -6.022908835151733e-24, -5.790264287871194e-24, 3.2053248736429822e-24, 8.271806125530277e-25, 2.7917345673664684e-23, -4.084204274480574e-24, -1.8508166205873994e-23, -4.03250548619601e-24, 2.724526142596535e-23, 5.324975193310116e-23, 1.6543612251060553e-23, 3.2053248736429822e-24, -4.03250548619601e-24, 9.926167350636332e-24, -9.098986738083304e-24, 9.098986738083304e-24, 6.617444900424221e-23, -1.9852334701272664e-23, -1.6543612251060553e-23, 3.308722450212111e-24, 9.926167350636332e-24, 6.617444900424222e-24, 6.617444900424222e-24, 3.8050308177439273e-23, -2.812414082680294e-23, -2.1093105620102206e-23, -7.858215819253763e-24, -1.9852334701272664e-23, -2.6469779601696886e-23, 5.293955920339377e-23, 5.37667398159468e-24, 8.271806125530277e-24, 4.963083675318166e-24, -2.9985297205047253e-23, -4.1359030627651384e-24, -1.406207041340147e-23, 9.512577044359818e-24, 1.737079286361358e-23, -8.68539643180679e-24, 1.9025154088719637e-23, 1.4889251025954498e-23, 1.5432088302942423e-23, -1.7991178323028352e-23, -1.8611563782443123e-24, 1.6336817097922297e-23, 2.54358038360056e-23, -1.7887780746459223e-23, -2.5849394142282115e-23, 1.7267395287044453e-23, 1.0960143116327617e-23, 7.0827339949853e-24, -1.5716431638507526e-23, -1.7784383169890095e-23, -5.245811423749377e-24, 1.7991178323028352e-23, 3.3087224502121107e-23, 1.0288058868628282e-23, 1.6543612251060553e-24, -1.5819829215076654e-23, -4.890705371719776e-23, -3.74299227180245e-23, -7.072394237328387e-23, -9.926167350636332e-24, 8.271806125530277e-25, 6.100457017578579e-24, 9.098986738083304e-24, -3.0605682664462024e-23, -3.25185378309909e-23, -9.926167350636332e-24, -1.2407709188295415e-24, -2.626298444855863e-23, -1.4475660719677984e-23, 2.6056189295420372e-23, 2.83309359799412e-23, 2.481541837659083e-23, -1.1166938269465874e-23, -6.2038545941477076e-24, -1.9852334701272664e-23, -1.6543612251060553e-23, -3.7223127564886245e-24, -2.6469779601696886e-23, 2.6469779601696886e-23, 1.3234889800848443e-23, ...], 'sampling_rate': 48000}</td>\n",
              "      <td>आज ब्राजिललाई समर्थन गर्ने को को हुनुहुन्छ</td>\n",
              "      <td></td>\n",
              "    </tr>\n",
              "    <tr>\n",
              "      <th>2</th>\n",
              "      <td>{'path': '/root/.cache/huggingface/datasets/downloads/extracted/448dda4a06aa260f9e276ccff46cfbd1f91934c7919d14a382817b1f58d5a760/ne-NP_train_0/common_voice_ne-NP_35314817.mp3', 'array': [2.6645352591003757e-15, 3.552713678800501e-15, -5.329070518200751e-15, 2.6645352591003757e-15, 1.865174681370263e-14, 4.085620730620576e-14, 3.552713678800501e-14, 2.0872192862952943e-14, 1.865174681370263e-14, 3.597122599785507e-14, 4.796163466380676e-14, 4.263256414560601e-14, 1.0658141036401503e-14, -4.1300296516055823e-14, -7.460698725481052e-14, -7.815970093361102e-14, -3.68594044175552e-14, 3.730349362740526e-14, 9.50350909079134e-14, 9.57012247226885e-14, 6.772360450213455e-14, 1.1302070390684094e-13, 1.9539925233402755e-13, 1.723066134218243e-13, 1.3322676295501878e-15, -1.9095836023552692e-13, -2.6334490144108713e-13, -1.900701818158268e-13, -1.2878587085651816e-13, -1.865174681370263e-13, -2.4558133304708463e-13, -1.2789769243681803e-13, 1.7141843500212417e-13, 4.11226608321158e-13, 4.227729277772596e-13, 2.2382096176443156e-13, -3.730349362740526e-14, -2.7133850721838826e-13, -4.556355293061642e-13, -5.022648963404208e-13, -3.8324898810060404e-13, -3.4727776210274897e-13, -5.551115123125783e-13, -7.380762667708041e-13, -5.311306949806749e-13, -1.0658141036401503e-13, -3.552713678800501e-15, -3.7569947153315297e-13, -6.625811010962934e-13, -2.5290880500961066e-13, 5.724309914967307e-13, 8.5087492607272e-13, 2.948752353404416e-13, -3.232969447708456e-13, -4.369837824924616e-13, -4.551914400963142e-13, -7.465139617579553e-13, -7.549516567451064e-13, -7.105427357601002e-15, 7.016609515630989e-13, 3.6060043839825084e-13, -3.206324095117452e-13, 4.747313653297169e-13, 2.750688565811288e-12, 3.941291737419306e-12, 2.1866952693017083e-12, -7.585043704239069e-13, -1.2820855488371308e-12, 1.2461143228392757e-12, 2.8705926524708048e-12, -5.062616992290714e-13, -7.489120434911456e-12, -1.1644019082268642e-11, -8.428813202954188e-12, -6.181721801112872e-13, 4.243716489327198e-12, 2.4940050025179517e-12, -1.3034018309099338e-12, -2.0250467969162855e-13, 5.729194896275658e-12, 9.138467760294589e-12, 5.221600929417036e-12, -1.5409895581797173e-12, -3.254285729781259e-12, 7.061018436615996e-13, 3.2365221613872563e-12, -1.389999226830696e-13, -5.339728659237153e-12, -6.508571459562518e-12, -4.164668609973887e-12, -2.2302160118670145e-12, -6.208367153703875e-13, 3.326228181776969e-12, 7.955414105254022e-12, 7.9756201643022e-12, 2.7919888623273437e-12, -1.5694112676101213e-12, -1.20525811553307e-12, 2.4868995751603507e-14, -2.453592884421596e-12, ...], 'sampling_rate': 48000}</td>\n",
              "      <td>सबैजना आरामै हुनुहुन्छ</td>\n",
              "      <td></td>\n",
              "    </tr>\n",
              "    <tr>\n",
              "      <th>3</th>\n",
              "      <td>{'path': '/root/.cache/huggingface/datasets/downloads/extracted/448dda4a06aa260f9e276ccff46cfbd1f91934c7919d14a382817b1f58d5a760/ne-NP_train_0/common_voice_ne-NP_32521113.mp3', 'array': [0.0, 0.0, 0.0, 0.0, 0.0, 0.0, 0.0, 0.0, 0.0, 0.0, 0.0, 0.0, 0.0, 0.0, 0.0, 0.0, 0.0, 0.0, 0.0, 0.0, 0.0, 0.0, 0.0, 0.0, 0.0, 0.0, 0.0, 0.0, 0.0, 0.0, 0.0, 0.0, 0.0, 0.0, 0.0, 0.0, 0.0, 0.0, 0.0, 0.0, 0.0, 0.0, 0.0, 0.0, 0.0, 0.0, 0.0, 0.0, 0.0, 0.0, 0.0, 0.0, 0.0, 0.0, 0.0, 0.0, 0.0, 0.0, 0.0, 0.0, 0.0, 0.0, 0.0, 0.0, 0.0, 0.0, 0.0, 0.0, 0.0, 0.0, 0.0, 0.0, 0.0, 0.0, 0.0, 0.0, 0.0, 0.0, 0.0, 0.0, 0.0, 0.0, 0.0, 0.0, 0.0, 0.0, 0.0, 0.0, 0.0, 0.0, 0.0, 0.0, 0.0, 0.0, 0.0, 0.0, 0.0, 0.0, 0.0, 0.0, ...], 'sampling_rate': 48000}</td>\n",
              "      <td>धेरै पनि खान हुन्न है ।</td>\n",
              "      <td></td>\n",
              "    </tr>\n",
              "    <tr>\n",
              "      <th>4</th>\n",
              "      <td>{'path': '/root/.cache/huggingface/datasets/downloads/extracted/448dda4a06aa260f9e276ccff46cfbd1f91934c7919d14a382817b1f58d5a760/ne-NP_train_0/common_voice_ne-NP_35314193.mp3', 'array': [2.2737367544323206e-13, 1.7053025658242404e-13, -7.958078640513122e-13, -9.094947017729282e-13, 4.547473508864641e-13, 1.0231815394945443e-12, 9.663381206337363e-13, 1.1368683772161603e-12, 2.6716406864579767e-12, 5.6843418860808015e-12, 7.16227077646181e-12, 3.0411229090532288e-12, -1.5916157281026244e-12, -4.263256414560601e-13, 4.604316927725449e-12, 5.7980287238024175e-12, 3.240074875066057e-12, -6.821210263296962e-13, -3.410605131648481e-12, -3.0127011996228248e-12, 9.663381206337363e-13, 6.0822458181064576e-12, 9.265477274311706e-12, 7.105427357601002e-12, 0.0, -8.526512829121202e-12, -1.261923898709938e-11, -1.000444171950221e-11, -3.410605131648481e-12, 4.661160346586257e-12, 8.540723683836404e-12, 1.7337242752546445e-12, -1.5432988220709376e-11, -2.9899638320785016e-11, -2.3305801732931286e-11, 1.1368683772161603e-12, 1.4381384971784428e-11, -1.375610736431554e-11, -6.843947630841285e-11, -9.532641342957504e-11, -6.74162947689183e-11, -2.0691004465334117e-11, -5.6843418860808015e-12, -1.546140993013978e-11, -4.092726157978177e-12, 2.944489096989855e-11, 2.1714186004828662e-11, -6.752998160663992e-11, -1.6297008187393658e-10, -1.3511680663214065e-10, 2.745537130977027e-11, 1.7212187231052667e-10, 1.6007106751203537e-10, 4.5929482439532876e-11, 7.503331289626658e-12, 1.1823431123048067e-10, 2.6000179786933586e-10, 2.75349520961754e-10, 1.6416379367001355e-10, 5.7980287238024175e-11, 2.1117330106790178e-11, -1.722355591482483e-11, -1.1834799806820229e-10, -2.1390178517322056e-10, -1.9201706891180947e-10, -5.502442945726216e-11, 7.275957614183426e-11, 9.072209650184959e-11, 2.9046987037872896e-11, -5.5706550483591855e-12, 3.922195901395753e-11, 1.2715872799162753e-10, 1.7894308257382363e-10, 1.3369572116062045e-10, 7.275957614183426e-12, -8.36735125631094e-11, -2.6432189770275727e-11, 1.311377673118841e-10, 1.7823253983806353e-10, -2.3277380023500882e-11, -3.383320290595293e-10, -4.813500709133223e-10, -3.64480001735501e-10, -1.807620719773695e-10, -6.616573955398053e-11, 1.2960299500264227e-10, 5.491642696142662e-10, 9.46272393775871e-10, 8.865299605531618e-10, 3.7186964618740603e-10, 7.787548383930698e-12, 2.906972440541722e-10, 8.628262548882049e-10, 8.515428362443345e-10, -8.043343768804334e-12, -9.531504474580288e-10, -1.086050360754598e-09, -4.161506694799755e-10, 2.675051291589625e-10, 4.324647306930274e-10, ...], 'sampling_rate': 48000}</td>\n",
              "      <td>अधिकांश ठाउँ बिक्रीमा भएकाले खुला स्थानको माग बढी छ ।</td>\n",
              "      <td></td>\n",
              "    </tr>\n",
              "    <tr>\n",
              "      <th>5</th>\n",
              "      <td>{'path': '/root/.cache/huggingface/datasets/downloads/extracted/448dda4a06aa260f9e276ccff46cfbd1f91934c7919d14a382817b1f58d5a760/ne-NP_train_0/common_voice_ne-NP_32521141.mp3', 'array': [0.0, 0.0, 0.0, 0.0, 0.0, 0.0, 0.0, 0.0, 0.0, 0.0, 0.0, 0.0, 0.0, 0.0, 0.0, 0.0, 0.0, 0.0, 0.0, 0.0, 0.0, 0.0, 0.0, 0.0, 0.0, 0.0, 0.0, 0.0, 0.0, 0.0, 0.0, 0.0, 0.0, 0.0, 0.0, 0.0, 0.0, 0.0, 0.0, 0.0, 0.0, 0.0, 0.0, 0.0, 0.0, 0.0, 0.0, 0.0, 0.0, 0.0, 0.0, 0.0, 0.0, 0.0, 0.0, 0.0, 0.0, 0.0, 0.0, 0.0, 0.0, 0.0, 0.0, 0.0, 0.0, 0.0, 0.0, 0.0, 0.0, 0.0, 0.0, 0.0, 0.0, 0.0, 0.0, 0.0, 0.0, 0.0, 0.0, 0.0, 0.0, 0.0, 0.0, 0.0, 0.0, 0.0, 0.0, 0.0, 0.0, 0.0, 0.0, 0.0, 0.0, 0.0, 0.0, 0.0, 0.0, 0.0, 0.0, 0.0, ...], 'sampling_rate': 48000}</td>\n",
              "      <td>धेरै लामो वाक्य चै नलेखौ है ।</td>\n",
              "      <td></td>\n",
              "    </tr>\n",
              "    <tr>\n",
              "      <th>6</th>\n",
              "      <td>{'path': '/root/.cache/huggingface/datasets/downloads/extracted/448dda4a06aa260f9e276ccff46cfbd1f91934c7919d14a382817b1f58d5a760/ne-NP_train_0/common_voice_ne-NP_32826935.mp3', 'array': [0.0, 0.0, 0.0, 0.0, 0.0, 0.0, 0.0, 0.0, 0.0, 0.0, 0.0, 0.0, 0.0, 0.0, 0.0, 0.0, 0.0, 0.0, 0.0, 0.0, 0.0, 0.0, 0.0, 0.0, 0.0, 0.0, 0.0, 0.0, 0.0, 0.0, 0.0, 0.0, 0.0, 0.0, 0.0, 0.0, 0.0, 0.0, 0.0, 0.0, 0.0, 0.0, 0.0, 0.0, 0.0, 0.0, 0.0, 0.0, 0.0, 0.0, 0.0, 0.0, 0.0, 0.0, 0.0, 0.0, 0.0, 0.0, 0.0, 0.0, 0.0, 0.0, 0.0, 0.0, 0.0, 0.0, 0.0, 0.0, 0.0, 0.0, 0.0, 0.0, 0.0, 0.0, 0.0, 0.0, 0.0, 0.0, 0.0, 0.0, 0.0, 0.0, 0.0, 0.0, 0.0, 0.0, 0.0, 0.0, 0.0, 0.0, 0.0, 0.0, 0.0, 0.0, 0.0, 0.0, 0.0, 0.0, 0.0, 0.0, ...], 'sampling_rate': 48000}</td>\n",
              "      <td>ब्राजिलले जितेछ बधाइ छ।</td>\n",
              "      <td></td>\n",
              "    </tr>\n",
              "    <tr>\n",
              "      <th>7</th>\n",
              "      <td>{'path': '/root/.cache/huggingface/datasets/downloads/extracted/7c17b4ecf0ff2591c22b82b6379a71c53dd8402805569fa496dbfd0e486298f5/ne-NP_dev_0/common_voice_ne-NP_32914772.mp3', 'array': [-9.545216953174243e-29, 6.310887241768094e-29, 1.4357268475022415e-28, 1.1044052673094165e-28, -4.890937612370273e-29, 2.0510383535746307e-29, 1.0570736129961558e-28, 9.781875224740546e-29, 5.837570698635487e-29, 6.310887241768094e-29, -3.7865323450608567e-29, -9.466330862652142e-30, 1.5777218104420236e-29, 1.1044052673094165e-28, 1.0176305677351052e-28, 3.944304526105059e-29, 7.987216665362745e-30, -3.865418435582958e-29, -8.085824278515371e-30, 4.141519752410312e-29, 6.744760739639651e-29, -1.9721522630525295e-29, -2.465190328815662e-29, -4.3781780239766155e-29, -2.8103169748498546e-29, -1.5777218104420236e-29, 1.0412963948917356e-28, 1.0412963948917356e-28, 6.863089875422803e-29, 5.36425415550288e-29, 6.468659422812297e-29, 2.208810534618833e-29, 2.129924444096732e-29, 7.573064690121713e-29, 5.048709793414476e-29, 3.7865323450608567e-29, 1.0097419586828951e-28, 1.262177448353619e-29, 5.048709793414476e-29, 3.7865323450608567e-29, 6.310887241768094e-29, 1.5146129380243427e-28, 1.7670484276950664e-28, 1.7670484276950664e-28, 0.0, 3.7865323450608567e-29, 0.0, -4.733165431326071e-30, -5.99534287967969e-29, -2.7610131682735413e-29, -5.837570698635487e-29, -6.389773332290196e-29, 1.3016204936146695e-29, -4.7726084765871214e-29, -4.9698237028923744e-29, 2.842364449124458e-29, -8.756356047953231e-29, -5.206481974458678e-29, 7.316684895924884e-29, 3.1554436208840472e-30, -3.944304526105059e-30, -7.296963373294359e-29, 7.257520328033309e-29, 4.200684320301888e-29, 2.7610131682735413e-30, 4.5753932502818685e-29, 1.1241267899399418e-28, -1.6566079009641248e-29, 1.1083495718355216e-28, 1.2730242858004078e-28, 8.04638123325432e-29, 4.4570641144987167e-29, 3.194886666145098e-29, 3.076557530361946e-29, 1.6171648557030742e-28, 2.5085776786028175e-28, 1.3489521479279302e-28, 5.798127653374437e-29, 4.1809627976713626e-29, -7.809722961688017e-29, -4.141519752410312e-30, -4.733165431326071e-30, -4.1020767071492614e-29, -6.784203784900702e-29, -9.624103043696344e-29, -9.38744477213004e-29, -8.204153414298523e-29, -1.0412963948917356e-28, -9.525495430543718e-29, -1.1201824854138368e-28, -2.524354896707238e-29, -7.494178599599612e-29, -3.470987982972452e-29, -5.99534287967969e-29, -4.1020767071492614e-29, -6.310887241768094e-29, -5.36425415550288e-29, 0.0, -2.0194839173657902e-28, 1.5146129380243427e-28, ...], 'sampling_rate': 48000}</td>\n",
              "      <td>अब विद्यार्थी राजनीति हराएकै राम्रो।</td>\n",
              "      <td></td>\n",
              "    </tr>\n",
              "    <tr>\n",
              "      <th>8</th>\n",
              "      <td>{'path': '/root/.cache/huggingface/datasets/downloads/extracted/7c17b4ecf0ff2591c22b82b6379a71c53dd8402805569fa496dbfd0e486298f5/ne-NP_dev_0/common_voice_ne-NP_32914785.mp3', 'array': [3.552713678800501e-15, 2.4158453015843406e-13, 3.979039320256561e-13, 3.5704772471945034e-13, 2.984279490192421e-13, 3.161915174132446e-13, 8.526512829121202e-14, -2.2737367544323206e-13, -4.440892098500626e-13, -4.085620730620576e-13, -3.197442310920451e-13, 5.684341886080802e-14, 5.258016244624741e-13, 6.679101716144942e-13, 5.968558980384842e-13, 4.973799150320701e-13, 3.765876499528531e-13, 2.2737367544323206e-13, 2.984279490192421e-13, 4.689582056016661e-13, 7.709388682997087e-13, 1.1795009413617663e-12, 1.4637180356658064e-12, 1.0800249583553523e-12, -7.105427357601002e-14, -1.3926637620897964e-12, -2.184918912462308e-12, -2.192912518239609e-12, -1.4850343177386094e-12, -8.242295734817162e-13, -4.476419235288631e-13, -6.146194664324867e-13, -1.0551559626037488e-12, -1.8687273950490635e-12, -2.9558577807620168e-12, -3.680611371237319e-12, -3.2223113066720543e-12, -7.780442956573097e-13, 3.105071755271638e-12, 6.352252057695296e-12, 6.750155989720952e-12, 3.950617610826157e-12, -4.760636329592671e-13, -4.511946372076636e-12, -7.02016222930979e-12, -7.986500349943526e-12, -8.540723683836404e-12, -9.464429240324534e-12, -1.0047074283647817e-11, -9.137579581874888e-12, -6.316724920907291e-12, -2.6361135496699717e-12, 4.618527782440651e-13, 2.8848035071860068e-12, 6.0609295360336546e-12, 1.0722089882619912e-11, 1.4349410548675223e-11, 1.3226753026174265e-11, 6.274092356761685e-12, -2.4513724383723456e-12, -5.9685589803848416e-12, -2.4158453015843406e-13, 1.1993961379630491e-11, 2.383160335739376e-11, 2.949462896140176e-11, 2.710009994189022e-11, 1.9845458609779598e-11, 1.3599787962448318e-11, 8.884892821470203e-12, 2.984279490192421e-13, -1.3585577107733116e-11, -2.5423219085496385e-11, -2.6147972675971687e-11, -1.2192913345643319e-11, 1.0800249583553523e-11, 2.9814373192493804e-11, 3.568345618987223e-11, 3.19033688356285e-11, 2.857802883227123e-11, 3.0027536013221834e-11, 3.078426402680634e-11, 2.2220447704057733e-11, 1.3145040611561853e-12, -2.162892087653745e-11, -2.809485977195436e-11, -7.887024366937112e-12, 2.964384293591138e-11, 6.271250185818644e-11, 7.546674396508024e-11, 6.838263288955204e-11, 5.4228621593210846e-11, 4.3968384488835e-11, 3.709033080667723e-11, 2.4073187887552194e-11, -1.8829382497642655e-12, -3.537081738613779e-11, -6.275513442233205e-11, -7.747757990728132e-11, -8.44124770082999e-11, -8.823519692668924e-11, ...], 'sampling_rate': 48000}</td>\n",
              "      <td>रात भरि करायो दक्षिणा हरायो</td>\n",
              "      <td></td>\n",
              "    </tr>\n",
              "    <tr>\n",
              "      <th>9</th>\n",
              "      <td>{'path': '/root/.cache/huggingface/datasets/downloads/extracted/448dda4a06aa260f9e276ccff46cfbd1f91934c7919d14a382817b1f58d5a760/ne-NP_train_0/common_voice_ne-NP_35314815.mp3', 'array': [-1.1368683772161603e-13, -4.973799150320701e-13, -7.176481631177012e-13, -5.826450433232822e-13, -2.5579538487363607e-13, 4.973799150320701e-14, 3.979039320256561e-13, 4.689582056016661e-13, 2.5579538487363607e-13, -2.842170943040401e-14, -3.126388037344441e-13, 2.5579538487363607e-13, 1.4566126083082054e-12, 2.2026824808563106e-12, 2.1316282072803006e-12, 1.6200374375330284e-12, 8.384404281969182e-13, 2.1316282072803006e-13, 5.542233338928781e-13, 1.5774048733874224e-12, 2.4726887204451486e-12, 2.5579538487363607e-12, 1.5063505998114124e-12, 3.694822225952521e-13, 1.7053025658242404e-13, -3.979039320256561e-13, -2.1387336346379016e-12, -4.149569576838985e-12, -4.519051799434237e-12, -2.9629632081196178e-12, -9.094947017729282e-13, -5.115907697472721e-13, -2.8990143619012088e-12, -6.821210263296962e-12, -1.0857093002414331e-11, -1.2420287021086551e-11, -9.691802915767767e-12, -2.9842794901924208e-12, 2.6432189770275727e-12, 2.4229507289419416e-12, -2.8137492336099967e-12, -7.190692485892214e-12, -6.110667527536862e-12, -2.8421709430404007e-13, 7.275957614183426e-12, 1.4210854715202004e-11, 1.659827830735594e-11, 8.86757334228605e-12, -9.777068044058979e-12, -3.2088109946926124e-11, -4.5062620301905554e-11, -4.035882739117369e-11, -2.2506441155201173e-11, -3.339550858072471e-12, 1.0231815394945443e-11, 1.7621459846850485e-11, 1.5290879673557356e-11, 7.958078640513122e-13, -1.801936377887614e-11, -2.830802259268239e-11, -2.6830093702301383e-11, -2.121680608979659e-11, -2.0378365661599673e-11, -2.631850293255411e-11, -3.89945853385143e-11, -6.610889613511972e-11, -1.1108625130873406e-10, -1.5072032510943245e-10, -1.4983925211708993e-10, -1.0248868420603685e-10, -3.888089850079268e-11, 9.606537787476555e-12, 3.021227712451946e-11, 2.319211489520967e-11, -1.4665602066088468e-11, -8.117240213323385e-11, -1.4780709989281604e-10, -1.709139496597345e-10, -1.4014034377396456e-10, -9.336531547887716e-11, -6.8098415795248e-11, -6.198774826771114e-11, -5.8179239204037e-11, -5.74686964682769e-11, -6.542677510879003e-11, -6.487255177489715e-11, -2.9046987037872896e-11, 3.7402969610411674e-11, 9.14894826564705e-11, 9.57811607804615e-11, 5.162803518032888e-11, -2.3604229681950528e-11, -1.212896449942491e-10, -2.1940138594800374e-10, -2.6003021957876626e-10, -1.8945911506307311e-10, -2.7114310796605423e-11, 1.3514522834157106e-10, 2.1617552192765288e-10, 2.1043433662271127e-10, ...], 'sampling_rate': 48000}</td>\n",
              "      <td>त्यस समितिले हामीलाई भेटेर कुराकानी गरेको थियो ।</td>\n",
              "      <td></td>\n",
              "    </tr>\n",
              "  </tbody>\n",
              "</table>"
            ]
          },
          "metadata": {}
        }
      ]
    },
    {
      "cell_type": "code",
      "source": [
        "def replace_hatted_characters(batch):\n",
        "    batch[\"sentence\"] = re.sub('[â]', 'a', batch[\"sentence\"])\n",
        "    batch[\"sentence\"] = re.sub('[î]', 'i', batch[\"sentence\"])\n",
        "    batch[\"sentence\"] = re.sub('[ô]', 'o', batch[\"sentence\"])\n",
        "    batch[\"sentence\"] = re.sub('[û]', 'u', batch[\"sentence\"])\n",
        "    return batch"
      ],
      "metadata": {
        "id": "L2uH9dpulx7v"
      },
      "execution_count": 11,
      "outputs": []
    },
    {
      "cell_type": "code",
      "source": [
        "common_voice_train = common_voice_train.map(replace_hatted_characters)\n",
        "common_voice_test = common_voice_test.map(replace_hatted_characters)"
      ],
      "metadata": {
        "id": "2V0obDj5lxvE"
      },
      "execution_count": 12,
      "outputs": []
    },
    {
      "cell_type": "code",
      "source": [
        "def extract_all_chars(batch):\n",
        "  all_text = \" \".join(batch[\"sentence\"])\n",
        "  vocab = list(set(all_text))\n",
        "  return {\"vocab\": [vocab], \"all_text\": [all_text]}"
      ],
      "metadata": {
        "id": "U1ERm9YN3ODM"
      },
      "execution_count": 13,
      "outputs": []
    },
    {
      "cell_type": "code",
      "source": [
        "vocab_train = common_voice_train.map(extract_all_chars, batched=True, batch_size=-1, keep_in_memory=True, remove_columns=common_voice_train.column_names)\n",
        "vocab_test = common_voice_test.map(extract_all_chars, batched=True, batch_size=-1, keep_in_memory=True, remove_columns=common_voice_test.column_names)"
      ],
      "metadata": {
        "colab": {
          "base_uri": "https://localhost:8080/",
          "height": 81,
          "referenced_widgets": [
            "2c7a78b53a8c4e86add9ed629c5ef199",
            "5b0e8ad96d7d432eb3d1b445129683ad",
            "6e240a5b9a554a64935a7ed5476f9957",
            "ba9793497eb74192a4f73d8fadd7abb1",
            "1ba72cdb82e545c19895acfefb5720fd",
            "99c099289a0249999c91f5996b70ffc4",
            "bff1186337b24b7ab840743230f25eca",
            "2a0f06d869e1488283908a0c6cd5797f",
            "50717cd0534a4e19bd2bae62f9e2b21a",
            "786afcd8675c4722a2262b1ed892cc40",
            "139f1efcd84141108a3ed9cd752f9644",
            "2b2c5a7495244c268a0e0f6966a8a203",
            "bb1ceda1a8a943b881ac00452b85bd8d",
            "827a0580e09f48a7b2e782b534bea61c",
            "303eac73c58a443ab848eb48f32a27cc",
            "5db51140244a47518e8bfab86f058c9b",
            "a47fc91863ca4632bfd2961bb4a5f676",
            "56518fd0b2d146bcb5a9d0aabd91488e",
            "f1148fa7a8a04f0ca69526ded2557ce6",
            "5295191f8734479483c7d8d8663353c7",
            "d839fcd4a1914a96a03610145bead60c",
            "7e375415fafe417ea98c75eb3ca2ccd3"
          ]
        },
        "id": "9RkfIztf3OAe",
        "outputId": "f2132276-0ad4-443f-d3be-4bbbe853ae5a"
      },
      "execution_count": 14,
      "outputs": [
        {
          "output_type": "display_data",
          "data": {
            "text/plain": [
              "Map:   0%|          | 0/222 [00:00<?, ? examples/s]"
            ],
            "application/vnd.jupyter.widget-view+json": {
              "version_major": 2,
              "version_minor": 0,
              "model_id": "2c7a78b53a8c4e86add9ed629c5ef199"
            }
          },
          "metadata": {}
        },
        {
          "output_type": "display_data",
          "data": {
            "text/plain": [
              "Map:   0%|          | 0/74 [00:00<?, ? examples/s]"
            ],
            "application/vnd.jupyter.widget-view+json": {
              "version_major": 2,
              "version_minor": 0,
              "model_id": "2b2c5a7495244c268a0e0f6966a8a203"
            }
          },
          "metadata": {}
        }
      ]
    },
    {
      "cell_type": "code",
      "source": [
        "vocab_list = list(set(vocab_train[\"vocab\"][0]) | set(vocab_test[\"vocab\"][0]))"
      ],
      "metadata": {
        "id": "wynYxskg3N-Q"
      },
      "execution_count": 15,
      "outputs": []
    },
    {
      "cell_type": "code",
      "source": [
        "vocab_dict = {v: k for k, v in enumerate(vocab_list)}\n",
        "vocab_dict"
      ],
      "metadata": {
        "colab": {
          "base_uri": "https://localhost:8080/"
        },
        "id": "w72uIZFX3N7e",
        "outputId": "2ca460ad-36c1-4b02-dbc1-af497327c017"
      },
      "execution_count": 16,
      "outputs": [
        {
          "output_type": "execute_result",
          "data": {
            "text/plain": [
              "{'।': 0,\n",
              " 'ञ': 1,\n",
              " 'ठ': 2,\n",
              " 'ि': 3,\n",
              " 'आ': 4,\n",
              " 'ण': 5,\n",
              " 'छ': 6,\n",
              " 'व': 7,\n",
              " 'श': 8,\n",
              " 'ज': 9,\n",
              " 'उ': 10,\n",
              " 'औ': 11,\n",
              " 'ग': 12,\n",
              " 'ऊ': 13,\n",
              " 'ई': 14,\n",
              " 'भ': 15,\n",
              " 'ी': 16,\n",
              " 'े': 17,\n",
              " 'ौ': 18,\n",
              " 'ह': 19,\n",
              " 'ट': 20,\n",
              " 'र': 21,\n",
              " 'थ': 22,\n",
              " 'ो': 23,\n",
              " 'ँ': 24,\n",
              " 'ः': 25,\n",
              " 'इ': 26,\n",
              " 'ए': 27,\n",
              " 'ड': 28,\n",
              " 'ू': 29,\n",
              " 'ओ': 30,\n",
              " 'ध': 31,\n",
              " 'द': 32,\n",
              " 'म': 33,\n",
              " '्': 34,\n",
              " '’': 35,\n",
              " 'घ': 36,\n",
              " 'ै': 37,\n",
              " 'ष': 38,\n",
              " 'ख': 39,\n",
              " 'क': 40,\n",
              " 'ङ': 41,\n",
              " 'अ': 42,\n",
              " 'त': 43,\n",
              " 'झ': 44,\n",
              " 'फ': 45,\n",
              " 'प': 46,\n",
              " ' ': 47,\n",
              " 'ं': 48,\n",
              " 'य': 49,\n",
              " 'ढ': 50,\n",
              " '–': 51,\n",
              " 'ा': 52,\n",
              " 'ब': 53,\n",
              " 'स': 54,\n",
              " 'न': 55,\n",
              " 'ृ': 56,\n",
              " 'च': 57,\n",
              " 'ु': 58,\n",
              " 'ल': 59}"
            ]
          },
          "metadata": {},
          "execution_count": 16
        }
      ]
    },
    {
      "cell_type": "code",
      "source": [
        "vocab_dict[\"|\"] = vocab_dict[\" \"]\n",
        "del vocab_dict[\" \"]"
      ],
      "metadata": {
        "id": "nvjtCuHs336U"
      },
      "execution_count": 17,
      "outputs": []
    },
    {
      "cell_type": "code",
      "source": [
        "vocab_dict[\"[UNK]\"] = len(vocab_dict)\n",
        "vocab_dict[\"[PAD]\"] = len(vocab_dict)\n",
        "len(vocab_dict)"
      ],
      "metadata": {
        "colab": {
          "base_uri": "https://localhost:8080/"
        },
        "id": "wmW-AmXC332L",
        "outputId": "75c140d5-6e18-4e9a-f291-5db4b33924b5"
      },
      "execution_count": 18,
      "outputs": [
        {
          "output_type": "execute_result",
          "data": {
            "text/plain": [
              "62"
            ]
          },
          "metadata": {},
          "execution_count": 18
        }
      ]
    },
    {
      "cell_type": "code",
      "source": [
        "import json\n",
        "with open('vocab.json', 'w') as vocab_file:\n",
        "    json.dump(vocab_dict, vocab_file)"
      ],
      "metadata": {
        "id": "UG_7A79y33z4"
      },
      "execution_count": 19,
      "outputs": []
    },
    {
      "cell_type": "code",
      "source": [
        "from transformers import Wav2Vec2CTCTokenizer\n",
        "\n",
        "tokenizer = Wav2Vec2CTCTokenizer(\"./vocab.json\", unk_token=\"[UNK]\", pad_token=\"[PAD]\", word_delimiter_token=\"|\")"
      ],
      "metadata": {
        "id": "8XuMdCJj33xX"
      },
      "execution_count": 20,
      "outputs": []
    },
    {
      "cell_type": "code",
      "source": [
        "repo_name = \"wav2vec2-large-xls-r-300m-firdous-nep-colab\""
      ],
      "metadata": {
        "id": "kxtkPDVz33qA"
      },
      "execution_count": 21,
      "outputs": []
    },
    {
      "cell_type": "code",
      "source": [
        "tokenizer.push_to_hub(repo_name)"
      ],
      "metadata": {
        "id": "7zYlxOmR33nW",
        "colab": {
          "base_uri": "https://localhost:8080/",
          "height": 101,
          "referenced_widgets": [
            "53ba0af5b90346e49bff7ddc8a68ff51",
            "792329de3944475e91e47a9ab62bfd9d",
            "e147798cb0454ce6b664b1e97f36203b",
            "ee0852ceb2fb44128fb5e1631e9bc178",
            "a951a1f16fc0430cba36b308639d2da6",
            "14279bf61800464f94deb3a3265fc1c4",
            "d8205de9e91c41efb60a7efbc5f59fe8",
            "b954d22f86864ce383b9f33c0eeb7f22",
            "61395a54cb7d4fc79449552547dffc43",
            "5cc44ca394f945518211ed9c0e85f09b",
            "d336930774024f599cd6b79dd0748853"
          ]
        },
        "outputId": "6cabee81-5fd5-4137-fab1-b566c701950b"
      },
      "execution_count": 22,
      "outputs": [
        {
          "output_type": "display_data",
          "data": {
            "text/plain": [
              "README.md:   0%|          | 0.00/1.29k [00:00<?, ?B/s]"
            ],
            "application/vnd.jupyter.widget-view+json": {
              "version_major": 2,
              "version_minor": 0,
              "model_id": "53ba0af5b90346e49bff7ddc8a68ff51"
            }
          },
          "metadata": {}
        },
        {
          "output_type": "execute_result",
          "data": {
            "text/plain": [
              "CommitInfo(commit_url='https://huggingface.co/f77777/wav2vec2-large-xls-r-300m-firdous-nep-colab/commit/c9dabdc70842fa4571f4b76ec29358ec320ac536', commit_message='Upload tokenizer', commit_description='', oid='c9dabdc70842fa4571f4b76ec29358ec320ac536', pr_url=None, pr_revision=None, pr_num=None)"
            ],
            "application/vnd.google.colaboratory.intrinsic+json": {
              "type": "string"
            }
          },
          "metadata": {},
          "execution_count": 22
        }
      ]
    },
    {
      "cell_type": "code",
      "source": [
        "from transformers import Wav2Vec2FeatureExtractor\n",
        "\n",
        "feature_extractor = Wav2Vec2FeatureExtractor(feature_size=1, sampling_rate=16000, padding_value=0.0, do_normalize=True, return_attention_mask=True)"
      ],
      "metadata": {
        "id": "tGjAie4433u_"
      },
      "execution_count": 23,
      "outputs": []
    },
    {
      "cell_type": "code",
      "source": [
        "from transformers import Wav2Vec2Processor\n",
        "\n",
        "processor = Wav2Vec2Processor(feature_extractor=feature_extractor, tokenizer=tokenizer)"
      ],
      "metadata": {
        "id": "M8Wv4kbm33sp"
      },
      "execution_count": 24,
      "outputs": []
    },
    {
      "cell_type": "code",
      "source": [
        "common_voice_train[0][\"path\"]"
      ],
      "metadata": {
        "id": "MJnZzlQC33j_",
        "colab": {
          "base_uri": "https://localhost:8080/",
          "height": 53
        },
        "outputId": "4a61eacb-e58f-443f-e79d-5a174dae3806"
      },
      "execution_count": 25,
      "outputs": [
        {
          "output_type": "execute_result",
          "data": {
            "text/plain": [
              "'/root/.cache/huggingface/datasets/downloads/extracted/448dda4a06aa260f9e276ccff46cfbd1f91934c7919d14a382817b1f58d5a760/ne-NP_train_0/common_voice_ne-NP_32518581.mp3'"
            ],
            "application/vnd.google.colaboratory.intrinsic+json": {
              "type": "string"
            }
          },
          "metadata": {},
          "execution_count": 25
        }
      ]
    },
    {
      "cell_type": "code",
      "source": [
        "common_voice_train[0][\"audio\"]"
      ],
      "metadata": {
        "id": "4dKDnagVmrv2",
        "colab": {
          "base_uri": "https://localhost:8080/"
        },
        "outputId": "957fcdd5-31e7-4741-c85c-459627829ca1"
      },
      "execution_count": 26,
      "outputs": [
        {
          "output_type": "execute_result",
          "data": {
            "text/plain": [
              "{'path': '/root/.cache/huggingface/datasets/downloads/extracted/448dda4a06aa260f9e276ccff46cfbd1f91934c7919d14a382817b1f58d5a760/ne-NP_train_0/common_voice_ne-NP_32518581.mp3',\n",
              " 'array': array([ 0.00000000e+00,  0.00000000e+00,  0.00000000e+00, ...,\n",
              "        -3.39809121e-05, -8.33787853e-05, -5.28519158e-05]),\n",
              " 'sampling_rate': 48000}"
            ]
          },
          "metadata": {},
          "execution_count": 26
        }
      ]
    },
    {
      "cell_type": "code",
      "source": [
        "import torchaudio\n",
        "\n",
        "def speech_file_to_array_fn(batch):\n",
        "    speech_array, sampling_rate = torchaudio.load(batch[\"path\"])\n",
        "    batch[\"speech\"] = speech_array[0].numpy()\n",
        "    batch[\"sampling_rate\"] = sampling_rate\n",
        "    batch[\"target_text\"] = batch[\"sentence\"]\n",
        "    return batch"
      ],
      "metadata": {
        "id": "KuwBFpMM33hi"
      },
      "execution_count": 27,
      "outputs": []
    },
    {
      "cell_type": "code",
      "source": [
        "common_voice_train = common_voice_train.map(speech_file_to_array_fn, remove_columns=common_voice_train.column_names)\n",
        "common_voice_test = common_voice_test.map(speech_file_to_array_fn, remove_columns=common_voice_test.column_names)"
      ],
      "metadata": {
        "id": "CrTfLFeL33f2"
      },
      "execution_count": 28,
      "outputs": []
    },
    {
      "cell_type": "code",
      "source": [
        "import librosa\n",
        "import numpy as np\n",
        "\n",
        "def resample(batch, index=None, dataset=None):\n",
        "    # Resample the speech audio from 48,000 Hz to 16,000 Hz using librosa\n",
        "    batch[\"speech\"] = librosa.resample(np.asarray(batch[\"speech\"]), orig_sr=48_000, target_sr=16_000)\n",
        "    # Update the sampling rate in the batch dictionary\n",
        "    batch[\"sampling_rate\"] = 16_000\n",
        "    # Return the modified batch\n",
        "    return batch\n"
      ],
      "metadata": {
        "id": "vg7Zvt-E33dJ"
      },
      "execution_count": 29,
      "outputs": []
    },
    {
      "cell_type": "code",
      "source": [
        "print(resample)"
      ],
      "metadata": {
        "id": "T0f2WKV24X11",
        "colab": {
          "base_uri": "https://localhost:8080/"
        },
        "outputId": "10f26d69-6922-4293-aa8e-c5ab9173dd0e"
      },
      "execution_count": 30,
      "outputs": [
        {
          "output_type": "stream",
          "name": "stdout",
          "text": [
            "<function resample at 0x7f6697750dc0>\n"
          ]
        }
      ]
    },
    {
      "cell_type": "code",
      "source": [
        "common_voice_train = common_voice_train.map(resample, num_proc=4)\n",
        "common_voice_test = common_voice_test.map(resample, num_proc=4)"
      ],
      "metadata": {
        "id": "N7pgsw7n4XzY"
      },
      "execution_count": 31,
      "outputs": []
    },
    {
      "cell_type": "code",
      "source": [
        "import IPython.display as ipd\n",
        "import numpy as np\n",
        "import random\n",
        "\n",
        "rand_int = random.randint(0, len(common_voice_train))\n",
        "\n",
        "ipd.Audio(data=np.asarray(common_voice_train[rand_int][\"speech\"]), autoplay=True, rate=16000)"
      ],
      "metadata": {
        "id": "U_NwLW6e4Xw5",
        "colab": {
          "base_uri": "https://localhost:8080/",
          "height": 75
        },
        "outputId": "aa65f38c-caa4-4134-8589-8ccc655fcbdb"
      },
      "execution_count": 32,
      "outputs": [
        {
          "output_type": "execute_result",
          "data": {
            "text/plain": [
              "<IPython.lib.display.Audio object>"
            ],
            "text/html": [
              "\n",
              "                <audio  controls=\"controls\" autoplay=\"autoplay\">\n",
              "                    <source src=\"data:audio/wav;base64,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\" type=\"audio/wav\" />\n",
              "                    Your browser does not support the audio element.\n",
              "                </audio>\n",
              "              "
            ]
          },
          "metadata": {},
          "execution_count": 32
        }
      ]
    },
    {
      "cell_type": "code",
      "source": [
        "rand_int = random.randint(0, len(common_voice_train))\n",
        "\n",
        "print(\"Target text:\", common_voice_train[rand_int][\"target_text\"])\n",
        "print(\"Input array shape:\", np.asarray(common_voice_train[rand_int][\"speech\"]).shape)\n",
        "print(\"Sampling rate:\", common_voice_train[rand_int][\"sampling_rate\"])"
      ],
      "metadata": {
        "id": "KchwdJdK4Xu6",
        "colab": {
          "base_uri": "https://localhost:8080/"
        },
        "outputId": "f6300f4e-a917-4015-c209-d7d38d4dd0e6"
      },
      "execution_count": 33,
      "outputs": [
        {
          "output_type": "stream",
          "name": "stdout",
          "text": [
            "Target text: अल्छी लागेर आयो । \n",
            "Input array shape: (28800,)\n",
            "Sampling rate: 16000\n"
          ]
        }
      ]
    },
    {
      "cell_type": "code",
      "source": [
        "def prepare_dataset(batch):\n",
        "    # check that all files have the correct sampling rate\n",
        "    assert (\n",
        "        len(set(batch[\"sampling_rate\"])) == 1\n",
        "    ), f\"Make sure all inputs have the same sampling rate of {processor.feature_extractor.sampling_rate}.\"\n",
        "\n",
        "    batch[\"input_values\"] = processor(batch[\"speech\"], sampling_rate=batch[\"sampling_rate\"][0]).input_values\n",
        "\n",
        "    with processor.as_target_processor():\n",
        "        batch[\"labels\"] = processor(batch[\"target_text\"]).input_ids\n",
        "    return batch"
      ],
      "metadata": {
        "id": "gaIB8EQW4Xss"
      },
      "execution_count": 34,
      "outputs": []
    },
    {
      "cell_type": "code",
      "source": [
        "common_voice_train = common_voice_train.map(prepare_dataset, remove_columns=common_voice_train.column_names, batch_size=8, num_proc=4, batched=True)\n",
        "common_voice_test = common_voice_test.map(prepare_dataset, remove_columns=common_voice_test.column_names, batch_size=8, num_proc=4, batched=True)"
      ],
      "metadata": {
        "id": "THSZwWef4Xqb",
        "colab": {
          "base_uri": "https://localhost:8080/",
          "height": 448,
          "referenced_widgets": [
            "060ab4da1b0e497c82b97dc8d8c9c355",
            "051d8065c3df4e4aaea453fd41a48e21",
            "3642175c13fa4f38a22313870c8ad7cd",
            "79e835f591214d978d40d60a3bb7008f",
            "f5ed3321c7af49e09c8d3dd48e74ce3d",
            "2ae7d96aeec24036af9fd9afe6a1828c",
            "8761e1aa4a5f418096441e32b8ff47d5",
            "5aa362a546f14f8793536f5aa050b0b2",
            "b037ec2438d84a3880160259285e941b",
            "4d2b33aeb7524fa69582f9f706ee5dfa",
            "89e0d436cc6f4c77a9fe110edd2de5ad",
            "cc8e48fc4fc5461c91c1fe3bc33df380",
            "81bc98634a554168a4db87dc971c2a6a",
            "c469cf30b9044aac9de89ec7d8df8ad2",
            "fa4d6a3d0b3a480dbf9fb343e7948bd6",
            "eb2b850e5b7441f6a004a2c854750292",
            "69e7d8a687a24da1b87175525a5b6524",
            "12ac7bcc24b741c399b62e042bd41917",
            "a78011a10ffe475ab39f688304fe49ce",
            "89d4f13400e3471c8b14092b5e841857",
            "8e003ab9ad664369a465bffe732591d9",
            "a2fe2465ca2a4156870f7370ee49d2f2"
          ]
        },
        "outputId": "65aeaee9-0f2c-4e0e-c7fe-d49705317670"
      },
      "execution_count": 35,
      "outputs": [
        {
          "output_type": "stream",
          "name": "stderr",
          "text": [
            "/usr/local/lib/python3.10/dist-packages/multiprocess/popen_fork.py:66: RuntimeWarning: os.fork() was called. os.fork() is incompatible with multithreaded code, and JAX is multithreaded, so this will likely lead to a deadlock.\n",
            "  self.pid = os.fork()\n"
          ]
        },
        {
          "output_type": "display_data",
          "data": {
            "text/plain": [
              "Map (num_proc=4):   0%|          | 0/222 [00:00<?, ? examples/s]"
            ],
            "application/vnd.jupyter.widget-view+json": {
              "version_major": 2,
              "version_minor": 0,
              "model_id": "060ab4da1b0e497c82b97dc8d8c9c355"
            }
          },
          "metadata": {}
        },
        {
          "output_type": "stream",
          "name": "stderr",
          "text": [
            "/usr/local/lib/python3.10/dist-packages/transformers/models/wav2vec2/processing_wav2vec2.py:156: UserWarning: `as_target_processor` is deprecated and will be removed in v5 of Transformers. You can process your labels by using the argument `text` of the regular `__call__` method (either in the same call as your audio inputs, or in a separate call.\n",
            "  warnings.warn(\n",
            "/usr/local/lib/python3.10/dist-packages/multiprocess/popen_fork.py:66: RuntimeWarning: os.fork() was called. os.fork() is incompatible with multithreaded code, and JAX is multithreaded, so this will likely lead to a deadlock.\n",
            "  self.pid = os.fork()\n",
            "/usr/local/lib/python3.10/dist-packages/transformers/models/wav2vec2/processing_wav2vec2.py:156: UserWarning: `as_target_processor` is deprecated and will be removed in v5 of Transformers. You can process your labels by using the argument `text` of the regular `__call__` method (either in the same call as your audio inputs, or in a separate call.\n",
            "  warnings.warn(\n",
            "/usr/local/lib/python3.10/dist-packages/transformers/models/wav2vec2/processing_wav2vec2.py:156: UserWarning: `as_target_processor` is deprecated and will be removed in v5 of Transformers. You can process your labels by using the argument `text` of the regular `__call__` method (either in the same call as your audio inputs, or in a separate call.\n",
            "  warnings.warn(\n",
            "/usr/local/lib/python3.10/dist-packages/transformers/models/wav2vec2/processing_wav2vec2.py:156: UserWarning: `as_target_processor` is deprecated and will be removed in v5 of Transformers. You can process your labels by using the argument `text` of the regular `__call__` method (either in the same call as your audio inputs, or in a separate call.\n",
            "  warnings.warn(\n"
          ]
        },
        {
          "output_type": "display_data",
          "data": {
            "text/plain": [
              "Map (num_proc=4):   0%|          | 0/74 [00:00<?, ? examples/s]"
            ],
            "application/vnd.jupyter.widget-view+json": {
              "version_major": 2,
              "version_minor": 0,
              "model_id": "cc8e48fc4fc5461c91c1fe3bc33df380"
            }
          },
          "metadata": {}
        },
        {
          "output_type": "stream",
          "name": "stderr",
          "text": [
            "/usr/local/lib/python3.10/dist-packages/transformers/models/wav2vec2/processing_wav2vec2.py:156: UserWarning: `as_target_processor` is deprecated and will be removed in v5 of Transformers. You can process your labels by using the argument `text` of the regular `__call__` method (either in the same call as your audio inputs, or in a separate call.\n",
            "  warnings.warn(\n",
            "/usr/local/lib/python3.10/dist-packages/transformers/models/wav2vec2/processing_wav2vec2.py:156: UserWarning: `as_target_processor` is deprecated and will be removed in v5 of Transformers. You can process your labels by using the argument `text` of the regular `__call__` method (either in the same call as your audio inputs, or in a separate call.\n",
            "  warnings.warn(\n",
            "/usr/local/lib/python3.10/dist-packages/transformers/models/wav2vec2/processing_wav2vec2.py:156: UserWarning: `as_target_processor` is deprecated and will be removed in v5 of Transformers. You can process your labels by using the argument `text` of the regular `__call__` method (either in the same call as your audio inputs, or in a separate call.\n",
            "  warnings.warn(\n",
            "/usr/local/lib/python3.10/dist-packages/transformers/models/wav2vec2/processing_wav2vec2.py:156: UserWarning: `as_target_processor` is deprecated and will be removed in v5 of Transformers. You can process your labels by using the argument `text` of the regular `__call__` method (either in the same call as your audio inputs, or in a separate call.\n",
            "  warnings.warn(\n"
          ]
        }
      ]
    },
    {
      "cell_type": "code",
      "source": [
        "import torch\n",
        "\n",
        "from dataclasses import dataclass, field\n",
        "from typing import Any, Dict, List, Optional, Union\n",
        "\n",
        "@dataclass\n",
        "class DataCollatorCTCWithPadding:\n",
        "    \"\"\"\n",
        "    Data collator that will dynamically pad the inputs received.\n",
        "    Args:\n",
        "        processor (:class:`~transformers.Wav2Vec2Processor`)\n",
        "            The processor used for proccessing the data.\n",
        "        padding (:obj:`bool`, :obj:`str` or :class:`~transformers.tokenization_utils_base.PaddingStrategy`, `optional`, defaults to :obj:`True`):\n",
        "            Select a strategy to pad the returned sequences (according to the model's padding side and padding index)\n",
        "            among:\n",
        "            * :obj:`True` or :obj:`'longest'`: Pad to the longest sequence in the batch (or no padding if only a single\n",
        "              sequence if provided).\n",
        "            * :obj:`'max_length'`: Pad to a maximum length specified with the argument :obj:`max_length` or to the\n",
        "              maximum acceptable input length for the model if that argument is not provided.\n",
        "            * :obj:`False` or :obj:`'do_not_pad'` (default): No padding (i.e., can output a batch with sequences of\n",
        "              different lengths).\n",
        "        max_length (:obj:`int`, `optional`):\n",
        "            Maximum length of the ``input_values`` of the returned list and optionally padding length (see above).\n",
        "        max_length_labels (:obj:`int`, `optional`):\n",
        "            Maximum length of the ``labels`` returned list and optionally padding length (see above).\n",
        "        pad_to_multiple_of (:obj:`int`, `optional`):\n",
        "            If set will pad the sequence to a multiple of the provided value.\n",
        "            This is especially useful to enable the use of Tensor Cores on NVIDIA hardware with compute capability >=\n",
        "            7.5 (Volta).\n",
        "    \"\"\"\n",
        "\n",
        "    processor: Wav2Vec2Processor\n",
        "    padding: Union[bool, str] = True\n",
        "    max_length: Optional[int] = None\n",
        "    max_length_labels: Optional[int] = None\n",
        "    pad_to_multiple_of: Optional[int] = None\n",
        "    pad_to_multiple_of_labels: Optional[int] = None\n",
        "\n",
        "    def __call__(self, features: List[Dict[str, Union[List[int], torch.Tensor]]]) -> Dict[str, torch.Tensor]:\n",
        "        # split inputs and labels since they have to be of different lenghts and need\n",
        "        # different padding methods\n",
        "        input_features = [{\"input_values\": feature[\"input_values\"]} for feature in features]\n",
        "        label_features = [{\"input_ids\": feature[\"labels\"]} for feature in features]\n",
        "\n",
        "        batch = self.processor.pad(\n",
        "            input_features,\n",
        "            padding=self.padding,\n",
        "            max_length=self.max_length,\n",
        "            pad_to_multiple_of=self.pad_to_multiple_of,\n",
        "            return_tensors=\"pt\",\n",
        "        )\n",
        "        with self.processor.as_target_processor():\n",
        "            labels_batch = self.processor.pad(\n",
        "                label_features,\n",
        "                padding=self.padding,\n",
        "                max_length=self.max_length_labels,\n",
        "                pad_to_multiple_of=self.pad_to_multiple_of_labels,\n",
        "                return_tensors=\"pt\",\n",
        "            )\n",
        "\n",
        "        # replace padding with -100 to ignore loss correctly\n",
        "        labels = labels_batch[\"input_ids\"].masked_fill(labels_batch.attention_mask.ne(1), -100)\n",
        "\n",
        "        batch[\"labels\"] = labels\n",
        "\n",
        "        return batch"
      ],
      "metadata": {
        "id": "Kb4WjghE4Xn5"
      },
      "execution_count": 36,
      "outputs": []
    },
    {
      "cell_type": "code",
      "source": [
        "data_collator = DataCollatorCTCWithPadding(processor=processor, padding=True)"
      ],
      "metadata": {
        "id": "q4DsJ7dY4Xlj"
      },
      "execution_count": 37,
      "outputs": []
    },
    {
      "cell_type": "code",
      "source": [
        "from datasets import load_metric\n",
        "wer_metric = load_metric(\"wer\")"
      ],
      "metadata": {
        "id": "M3zAw3S-4Xi7",
        "colab": {
          "base_uri": "https://localhost:8080/"
        },
        "outputId": "2af30a05-42d8-49c2-9b07-dd2dc6f6d94a"
      },
      "execution_count": 38,
      "outputs": [
        {
          "output_type": "stream",
          "name": "stderr",
          "text": [
            "<ipython-input-38-7b292a9c8d88>:2: FutureWarning: load_metric is deprecated and will be removed in the next major version of datasets. Use 'evaluate.load' instead, from the new library 🤗 Evaluate: https://huggingface.co/docs/evaluate\n",
            "  wer_metric = load_metric(\"wer\")\n",
            "/usr/local/lib/python3.10/dist-packages/datasets/load.py:759: FutureWarning: The repository for wer contains custom code which must be executed to correctly load the metric. You can inspect the repository content at https://raw.githubusercontent.com/huggingface/datasets/2.19.0/metrics/wer/wer.py\n",
            "You can avoid this message in future by passing the argument `trust_remote_code=True`.\n",
            "Passing `trust_remote_code=True` will be mandatory to load this metric from the next major release of `datasets`.\n",
            "  warnings.warn(\n"
          ]
        }
      ]
    },
    {
      "cell_type": "code",
      "source": [
        "def compute_metrics(pred):\n",
        "    pred_logits = pred.predictions\n",
        "    pred_ids = np.argmax(pred_logits, axis=-1)\n",
        "\n",
        "    pred.label_ids[pred.label_ids == -100] = processor.tokenizer.pad_token_id\n",
        "\n",
        "    pred_str = processor.batch_decode(pred_ids)\n",
        "    # we do not want to group tokens when computing the metrics\n",
        "    label_str = processor.batch_decode(pred.label_ids, group_tokens=False)\n",
        "\n",
        "    wer = wer_metric.compute(predictions=pred_str, references=label_str)\n",
        "\n",
        "    return {\"wer\": wer}"
      ],
      "metadata": {
        "id": "zlUVMwBn4nvU"
      },
      "execution_count": 39,
      "outputs": []
    },
    {
      "cell_type": "code",
      "source": [
        "from transformers import Wav2Vec2ForCTC\n",
        "\n",
        "model = Wav2Vec2ForCTC.from_pretrained(\n",
        "    \"facebook/wav2vec2-large-xlsr-53\",\n",
        "    attention_dropout=0.1,\n",
        "    hidden_dropout=0.1,\n",
        "    feat_proj_dropout=0.0,\n",
        "    mask_time_prob=0.05,\n",
        "    layerdrop=0.1,\n",
        "    gradient_checkpointing=True,\n",
        "    ctc_loss_reduction=\"mean\",\n",
        "    pad_token_id=processor.tokenizer.pad_token_id,\n",
        "    vocab_size=len(processor.tokenizer)\n",
        ")"
      ],
      "metadata": {
        "id": "h9SpMesD4ntG",
        "colab": {
          "base_uri": "https://localhost:8080/"
        },
        "outputId": "01436cee-482f-46f1-d322-3d42f5dd6cc7"
      },
      "execution_count": 40,
      "outputs": [
        {
          "output_type": "stream",
          "name": "stderr",
          "text": [
            "Some weights of Wav2Vec2ForCTC were not initialized from the model checkpoint at facebook/wav2vec2-large-xlsr-53 and are newly initialized: ['lm_head.bias', 'lm_head.weight', 'wav2vec2.encoder.pos_conv_embed.conv.parametrizations.weight.original0', 'wav2vec2.encoder.pos_conv_embed.conv.parametrizations.weight.original1']\n",
            "You should probably TRAIN this model on a down-stream task to be able to use it for predictions and inference.\n"
          ]
        }
      ]
    },
    {
      "cell_type": "code",
      "source": [
        "model.freeze_feature_extractor()"
      ],
      "metadata": {
        "id": "SscpF7VH4nqq",
        "colab": {
          "base_uri": "https://localhost:8080/"
        },
        "outputId": "f070556d-c17d-4902-e8e2-5a50e69d7b4a"
      },
      "execution_count": 41,
      "outputs": [
        {
          "output_type": "stream",
          "name": "stderr",
          "text": [
            "/usr/local/lib/python3.10/dist-packages/transformers/models/wav2vec2/modeling_wav2vec2.py:1920: FutureWarning: The method `freeze_feature_extractor` is deprecated and will be removed in Transformers v5. Please use the equivalent `freeze_feature_encoder` method instead.\n",
            "  warnings.warn(\n"
          ]
        }
      ]
    },
    {
      "cell_type": "code",
      "source": [
        "pip install accelerate -U"
      ],
      "metadata": {
        "id": "e52OXE6Q4noB",
        "colab": {
          "base_uri": "https://localhost:8080/"
        },
        "outputId": "94dc0f3b-f674-40a9-98c4-5c81be84f8a5"
      },
      "execution_count": 42,
      "outputs": [
        {
          "output_type": "stream",
          "name": "stdout",
          "text": [
            "Requirement already satisfied: accelerate in /usr/local/lib/python3.10/dist-packages (0.29.3)\n",
            "Requirement already satisfied: numpy>=1.17 in /usr/local/lib/python3.10/dist-packages (from accelerate) (1.25.2)\n",
            "Requirement already satisfied: packaging>=20.0 in /usr/local/lib/python3.10/dist-packages (from accelerate) (24.0)\n",
            "Requirement already satisfied: psutil in /usr/local/lib/python3.10/dist-packages (from accelerate) (5.9.5)\n",
            "Requirement already satisfied: pyyaml in /usr/local/lib/python3.10/dist-packages (from accelerate) (6.0.1)\n",
            "Requirement already satisfied: torch>=1.10.0 in /usr/local/lib/python3.10/dist-packages (from accelerate) (2.2.1+cu121)\n",
            "Requirement already satisfied: huggingface-hub in /usr/local/lib/python3.10/dist-packages (from accelerate) (0.22.2)\n",
            "Requirement already satisfied: safetensors>=0.3.1 in /usr/local/lib/python3.10/dist-packages (from accelerate) (0.4.3)\n",
            "Requirement already satisfied: filelock in /usr/local/lib/python3.10/dist-packages (from torch>=1.10.0->accelerate) (3.13.4)\n",
            "Requirement already satisfied: typing-extensions>=4.8.0 in /usr/local/lib/python3.10/dist-packages (from torch>=1.10.0->accelerate) (4.11.0)\n",
            "Requirement already satisfied: sympy in /usr/local/lib/python3.10/dist-packages (from torch>=1.10.0->accelerate) (1.12)\n",
            "Requirement already satisfied: networkx in /usr/local/lib/python3.10/dist-packages (from torch>=1.10.0->accelerate) (3.3)\n",
            "Requirement already satisfied: jinja2 in /usr/local/lib/python3.10/dist-packages (from torch>=1.10.0->accelerate) (3.1.3)\n",
            "Requirement already satisfied: fsspec in /usr/local/lib/python3.10/dist-packages (from torch>=1.10.0->accelerate) (2023.6.0)\n",
            "Requirement already satisfied: nvidia-cuda-nvrtc-cu12==12.1.105 in /usr/local/lib/python3.10/dist-packages (from torch>=1.10.0->accelerate) (12.1.105)\n",
            "Requirement already satisfied: nvidia-cuda-runtime-cu12==12.1.105 in /usr/local/lib/python3.10/dist-packages (from torch>=1.10.0->accelerate) (12.1.105)\n",
            "Requirement already satisfied: nvidia-cuda-cupti-cu12==12.1.105 in /usr/local/lib/python3.10/dist-packages (from torch>=1.10.0->accelerate) (12.1.105)\n",
            "Requirement already satisfied: nvidia-cudnn-cu12==8.9.2.26 in /usr/local/lib/python3.10/dist-packages (from torch>=1.10.0->accelerate) (8.9.2.26)\n",
            "Requirement already satisfied: nvidia-cublas-cu12==12.1.3.1 in /usr/local/lib/python3.10/dist-packages (from torch>=1.10.0->accelerate) (12.1.3.1)\n",
            "Requirement already satisfied: nvidia-cufft-cu12==11.0.2.54 in /usr/local/lib/python3.10/dist-packages (from torch>=1.10.0->accelerate) (11.0.2.54)\n",
            "Requirement already satisfied: nvidia-curand-cu12==10.3.2.106 in /usr/local/lib/python3.10/dist-packages (from torch>=1.10.0->accelerate) (10.3.2.106)\n",
            "Requirement already satisfied: nvidia-cusolver-cu12==11.4.5.107 in /usr/local/lib/python3.10/dist-packages (from torch>=1.10.0->accelerate) (11.4.5.107)\n",
            "Requirement already satisfied: nvidia-cusparse-cu12==12.1.0.106 in /usr/local/lib/python3.10/dist-packages (from torch>=1.10.0->accelerate) (12.1.0.106)\n",
            "Requirement already satisfied: nvidia-nccl-cu12==2.19.3 in /usr/local/lib/python3.10/dist-packages (from torch>=1.10.0->accelerate) (2.19.3)\n",
            "Requirement already satisfied: nvidia-nvtx-cu12==12.1.105 in /usr/local/lib/python3.10/dist-packages (from torch>=1.10.0->accelerate) (12.1.105)\n",
            "Requirement already satisfied: triton==2.2.0 in /usr/local/lib/python3.10/dist-packages (from torch>=1.10.0->accelerate) (2.2.0)\n",
            "Requirement already satisfied: nvidia-nvjitlink-cu12 in /usr/local/lib/python3.10/dist-packages (from nvidia-cusolver-cu12==11.4.5.107->torch>=1.10.0->accelerate) (12.4.127)\n",
            "Requirement already satisfied: requests in /usr/local/lib/python3.10/dist-packages (from huggingface-hub->accelerate) (2.31.0)\n",
            "Requirement already satisfied: tqdm>=4.42.1 in /usr/local/lib/python3.10/dist-packages (from huggingface-hub->accelerate) (4.66.2)\n",
            "Requirement already satisfied: MarkupSafe>=2.0 in /usr/local/lib/python3.10/dist-packages (from jinja2->torch>=1.10.0->accelerate) (2.1.5)\n",
            "Requirement already satisfied: charset-normalizer<4,>=2 in /usr/local/lib/python3.10/dist-packages (from requests->huggingface-hub->accelerate) (3.3.2)\n",
            "Requirement already satisfied: idna<4,>=2.5 in /usr/local/lib/python3.10/dist-packages (from requests->huggingface-hub->accelerate) (3.7)\n",
            "Requirement already satisfied: urllib3<3,>=1.21.1 in /usr/local/lib/python3.10/dist-packages (from requests->huggingface-hub->accelerate) (2.0.7)\n",
            "Requirement already satisfied: certifi>=2017.4.17 in /usr/local/lib/python3.10/dist-packages (from requests->huggingface-hub->accelerate) (2024.2.2)\n",
            "Requirement already satisfied: mpmath>=0.19 in /usr/local/lib/python3.10/dist-packages (from sympy->torch>=1.10.0->accelerate) (1.3.0)\n"
          ]
        }
      ]
    },
    {
      "cell_type": "code",
      "source": [
        "from transformers import TrainingArguments\n",
        "\n",
        "training_args = TrainingArguments(\n",
        "  output_dir=repo_name,\n",
        "  # output_dir=\"./wav2vec2-large-xlsr-turkish-demo\",\n",
        "  group_by_length=True,\n",
        "  per_device_train_batch_size=8,\n",
        "  gradient_accumulation_steps=8,\n",
        "  evaluation_strategy=\"steps\",\n",
        "  num_train_epochs=30,\n",
        "\n",
        "  save_steps=400, #this would mean every 400 steps model gets saved which also means Google drive gets full\n",
        "  eval_steps=400,\n",
        "  logging_steps=400,\n",
        "  #learning_rate=3e-4,\n",
        "  learning_rate=3e-4, # this is just for demo\n",
        "  warmup_steps=500,\n",
        "  save_total_limit=2,\n",
        ")"
      ],
      "metadata": {
        "id": "lsRJoh7Z4nky"
      },
      "execution_count": 46,
      "outputs": []
    },
    {
      "cell_type": "code",
      "source": [
        "from transformers import Trainer\n",
        "\n",
        "trainer = Trainer(\n",
        "    model=model,\n",
        "    data_collator=data_collator,\n",
        "    args=training_args,\n",
        "    compute_metrics=compute_metrics,\n",
        "    train_dataset=common_voice_train,\n",
        "    eval_dataset=common_voice_test,\n",
        "    tokenizer=processor.feature_extractor,\n",
        ")"
      ],
      "metadata": {
        "id": "uSrIu6mR4pIw",
        "colab": {
          "base_uri": "https://localhost:8080/"
        },
        "outputId": "73d8d69c-4aaf-4af3-ceaf-24d855d54987"
      },
      "execution_count": 47,
      "outputs": [
        {
          "output_type": "stream",
          "name": "stderr",
          "text": [
            "/usr/local/lib/python3.10/dist-packages/accelerate/accelerator.py:436: FutureWarning: Passing the following arguments to `Accelerator` is deprecated and will be removed in version 1.0 of Accelerate: dict_keys(['dispatch_batches', 'split_batches', 'even_batches', 'use_seedable_sampler']). Please pass an `accelerate.DataLoaderConfiguration` instead: \n",
            "dataloader_config = DataLoaderConfiguration(dispatch_batches=None, split_batches=False, even_batches=True, use_seedable_sampler=True)\n",
            "  warnings.warn(\n"
          ]
        }
      ]
    },
    {
      "cell_type": "code",
      "source": [
        "trainer.train()"
      ],
      "metadata": {
        "id": "bhBu4TDh4pGS",
        "colab": {
          "base_uri": "https://localhost:8080/"
        },
        "outputId": "ca7bbe63-9ad7-46e6-aa57-a0e4b6dc5701"
      },
      "execution_count": null,
      "outputs": [
        {
          "output_type": "stream",
          "name": "stderr",
          "text": [
            "/usr/local/lib/python3.10/dist-packages/transformers/models/wav2vec2/processing_wav2vec2.py:156: UserWarning: `as_target_processor` is deprecated and will be removed in v5 of Transformers. You can process your labels by using the argument `text` of the regular `__call__` method (either in the same call as your audio inputs, or in a separate call.\n",
            "  warnings.warn(\n"
          ]
        }
      ]
    },
    {
      "cell_type": "code",
      "source": [
        "trainer.push_to_hub()"
      ],
      "metadata": {
        "id": "SoaxiXzspBTf"
      },
      "execution_count": null,
      "outputs": []
    },
    {
      "cell_type": "code",
      "source": [
        "model = Wav2Vec2ForCTC.from_pretrained(repo_name).to(\"cuda\")\n",
        "processor = Wav2Vec2Processor.from_pretrained(repo_name)"
      ],
      "metadata": {
        "id": "XkmI9rg69Ss_"
      },
      "execution_count": null,
      "outputs": []
    },
    {
      "cell_type": "code",
      "source": [
        "input_dict = processor(common_voice_test[\"input_values\"][0], return_tensors=\"pt\", padding=True)\n",
        "\n",
        "logits = model(input_dict.input_values.to(\"cuda\")).logits\n",
        "\n",
        "pred_ids = torch.argmax(logits, dim=-1)[0]"
      ],
      "metadata": {
        "id": "cfDeXKNR9SqE"
      },
      "execution_count": null,
      "outputs": []
    },
    {
      "cell_type": "code",
      "source": [
        "common_voice_test_transcription = load_dataset(\"mozilla-foundation/common_voice_13_0\", \"ne-NP\", split=\"test\")"
      ],
      "metadata": {
        "id": "WGix2H_y9Sm9"
      },
      "execution_count": null,
      "outputs": []
    },
    {
      "cell_type": "code",
      "source": [
        "print(\"Prediction:\")\n",
        "print(processor.decode(pred_ids))\n",
        "\n",
        "print(\"\\nReference:\")\n",
        "print(common_voice_test_transcription[0][\"sentence\"].lower())"
      ],
      "metadata": {
        "id": "AzRsa2y-9Se7"
      },
      "execution_count": null,
      "outputs": []
    }
  ]
}